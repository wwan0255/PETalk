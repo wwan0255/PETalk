{
  "nbformat": 4,
  "nbformat_minor": 0,
  "metadata": {
    "colab": {
      "provenance": [],
      "gpuType": "T4",
      "include_colab_link": true
    },
    "kernelspec": {
      "name": "python3",
      "display_name": "Python 3"
    },
    "language_info": {
      "name": "python"
    },
    "accelerator": "GPU",
    "widgets": {
      "application/vnd.jupyter.widget-state+json": {
        "87793212f0bf43c3887aec82b523172d": {
          "model_module": "@jupyter-widgets/controls",
          "model_name": "HBoxModel",
          "model_module_version": "1.5.0",
          "state": {
            "_dom_classes": [],
            "_model_module": "@jupyter-widgets/controls",
            "_model_module_version": "1.5.0",
            "_model_name": "HBoxModel",
            "_view_count": null,
            "_view_module": "@jupyter-widgets/controls",
            "_view_module_version": "1.5.0",
            "_view_name": "HBoxView",
            "box_style": "",
            "children": [
              "IPY_MODEL_70789fbafa9f4095bc9a633efea604c2",
              "IPY_MODEL_f0714bb766804edb843d47fc125999b6",
              "IPY_MODEL_7cc17da459cc4e57af95b35d24707f08"
            ],
            "layout": "IPY_MODEL_12c7500712e1496db1ecb7f21e8c581c"
          }
        },
        "70789fbafa9f4095bc9a633efea604c2": {
          "model_module": "@jupyter-widgets/controls",
          "model_name": "HTMLModel",
          "model_module_version": "1.5.0",
          "state": {
            "_dom_classes": [],
            "_model_module": "@jupyter-widgets/controls",
            "_model_module_version": "1.5.0",
            "_model_name": "HTMLModel",
            "_view_count": null,
            "_view_module": "@jupyter-widgets/controls",
            "_view_module_version": "1.5.0",
            "_view_name": "HTMLView",
            "description": "",
            "description_tooltip": null,
            "layout": "IPY_MODEL_284f0a176631491fa43bb7383dedb042",
            "placeholder": "​",
            "style": "IPY_MODEL_640882b699804f468a1daf5199e3da7b",
            "value": "Map: 100%"
          }
        },
        "f0714bb766804edb843d47fc125999b6": {
          "model_module": "@jupyter-widgets/controls",
          "model_name": "FloatProgressModel",
          "model_module_version": "1.5.0",
          "state": {
            "_dom_classes": [],
            "_model_module": "@jupyter-widgets/controls",
            "_model_module_version": "1.5.0",
            "_model_name": "FloatProgressModel",
            "_view_count": null,
            "_view_module": "@jupyter-widgets/controls",
            "_view_module_version": "1.5.0",
            "_view_name": "ProgressView",
            "bar_style": "success",
            "description": "",
            "description_tooltip": null,
            "layout": "IPY_MODEL_997162093d274dfc8c1751a638a9e070",
            "max": 2000,
            "min": 0,
            "orientation": "horizontal",
            "style": "IPY_MODEL_53d9ea874c994574b572c203c6ade781",
            "value": 2000
          }
        },
        "7cc17da459cc4e57af95b35d24707f08": {
          "model_module": "@jupyter-widgets/controls",
          "model_name": "HTMLModel",
          "model_module_version": "1.5.0",
          "state": {
            "_dom_classes": [],
            "_model_module": "@jupyter-widgets/controls",
            "_model_module_version": "1.5.0",
            "_model_name": "HTMLModel",
            "_view_count": null,
            "_view_module": "@jupyter-widgets/controls",
            "_view_module_version": "1.5.0",
            "_view_name": "HTMLView",
            "description": "",
            "description_tooltip": null,
            "layout": "IPY_MODEL_af7919af35bd4738950daa8c67f9e3c2",
            "placeholder": "​",
            "style": "IPY_MODEL_335360de9af845bbbe40edf44574b044",
            "value": " 2000/2000 [00:00&lt;00:00, 3475.95 examples/s]"
          }
        },
        "12c7500712e1496db1ecb7f21e8c581c": {
          "model_module": "@jupyter-widgets/base",
          "model_name": "LayoutModel",
          "model_module_version": "1.2.0",
          "state": {
            "_model_module": "@jupyter-widgets/base",
            "_model_module_version": "1.2.0",
            "_model_name": "LayoutModel",
            "_view_count": null,
            "_view_module": "@jupyter-widgets/base",
            "_view_module_version": "1.2.0",
            "_view_name": "LayoutView",
            "align_content": null,
            "align_items": null,
            "align_self": null,
            "border": null,
            "bottom": null,
            "display": null,
            "flex": null,
            "flex_flow": null,
            "grid_area": null,
            "grid_auto_columns": null,
            "grid_auto_flow": null,
            "grid_auto_rows": null,
            "grid_column": null,
            "grid_gap": null,
            "grid_row": null,
            "grid_template_areas": null,
            "grid_template_columns": null,
            "grid_template_rows": null,
            "height": null,
            "justify_content": null,
            "justify_items": null,
            "left": null,
            "margin": null,
            "max_height": null,
            "max_width": null,
            "min_height": null,
            "min_width": null,
            "object_fit": null,
            "object_position": null,
            "order": null,
            "overflow": null,
            "overflow_x": null,
            "overflow_y": null,
            "padding": null,
            "right": null,
            "top": null,
            "visibility": null,
            "width": null
          }
        },
        "284f0a176631491fa43bb7383dedb042": {
          "model_module": "@jupyter-widgets/base",
          "model_name": "LayoutModel",
          "model_module_version": "1.2.0",
          "state": {
            "_model_module": "@jupyter-widgets/base",
            "_model_module_version": "1.2.0",
            "_model_name": "LayoutModel",
            "_view_count": null,
            "_view_module": "@jupyter-widgets/base",
            "_view_module_version": "1.2.0",
            "_view_name": "LayoutView",
            "align_content": null,
            "align_items": null,
            "align_self": null,
            "border": null,
            "bottom": null,
            "display": null,
            "flex": null,
            "flex_flow": null,
            "grid_area": null,
            "grid_auto_columns": null,
            "grid_auto_flow": null,
            "grid_auto_rows": null,
            "grid_column": null,
            "grid_gap": null,
            "grid_row": null,
            "grid_template_areas": null,
            "grid_template_columns": null,
            "grid_template_rows": null,
            "height": null,
            "justify_content": null,
            "justify_items": null,
            "left": null,
            "margin": null,
            "max_height": null,
            "max_width": null,
            "min_height": null,
            "min_width": null,
            "object_fit": null,
            "object_position": null,
            "order": null,
            "overflow": null,
            "overflow_x": null,
            "overflow_y": null,
            "padding": null,
            "right": null,
            "top": null,
            "visibility": null,
            "width": null
          }
        },
        "640882b699804f468a1daf5199e3da7b": {
          "model_module": "@jupyter-widgets/controls",
          "model_name": "DescriptionStyleModel",
          "model_module_version": "1.5.0",
          "state": {
            "_model_module": "@jupyter-widgets/controls",
            "_model_module_version": "1.5.0",
            "_model_name": "DescriptionStyleModel",
            "_view_count": null,
            "_view_module": "@jupyter-widgets/base",
            "_view_module_version": "1.2.0",
            "_view_name": "StyleView",
            "description_width": ""
          }
        },
        "997162093d274dfc8c1751a638a9e070": {
          "model_module": "@jupyter-widgets/base",
          "model_name": "LayoutModel",
          "model_module_version": "1.2.0",
          "state": {
            "_model_module": "@jupyter-widgets/base",
            "_model_module_version": "1.2.0",
            "_model_name": "LayoutModel",
            "_view_count": null,
            "_view_module": "@jupyter-widgets/base",
            "_view_module_version": "1.2.0",
            "_view_name": "LayoutView",
            "align_content": null,
            "align_items": null,
            "align_self": null,
            "border": null,
            "bottom": null,
            "display": null,
            "flex": null,
            "flex_flow": null,
            "grid_area": null,
            "grid_auto_columns": null,
            "grid_auto_flow": null,
            "grid_auto_rows": null,
            "grid_column": null,
            "grid_gap": null,
            "grid_row": null,
            "grid_template_areas": null,
            "grid_template_columns": null,
            "grid_template_rows": null,
            "height": null,
            "justify_content": null,
            "justify_items": null,
            "left": null,
            "margin": null,
            "max_height": null,
            "max_width": null,
            "min_height": null,
            "min_width": null,
            "object_fit": null,
            "object_position": null,
            "order": null,
            "overflow": null,
            "overflow_x": null,
            "overflow_y": null,
            "padding": null,
            "right": null,
            "top": null,
            "visibility": null,
            "width": null
          }
        },
        "53d9ea874c994574b572c203c6ade781": {
          "model_module": "@jupyter-widgets/controls",
          "model_name": "ProgressStyleModel",
          "model_module_version": "1.5.0",
          "state": {
            "_model_module": "@jupyter-widgets/controls",
            "_model_module_version": "1.5.0",
            "_model_name": "ProgressStyleModel",
            "_view_count": null,
            "_view_module": "@jupyter-widgets/base",
            "_view_module_version": "1.2.0",
            "_view_name": "StyleView",
            "bar_color": null,
            "description_width": ""
          }
        },
        "af7919af35bd4738950daa8c67f9e3c2": {
          "model_module": "@jupyter-widgets/base",
          "model_name": "LayoutModel",
          "model_module_version": "1.2.0",
          "state": {
            "_model_module": "@jupyter-widgets/base",
            "_model_module_version": "1.2.0",
            "_model_name": "LayoutModel",
            "_view_count": null,
            "_view_module": "@jupyter-widgets/base",
            "_view_module_version": "1.2.0",
            "_view_name": "LayoutView",
            "align_content": null,
            "align_items": null,
            "align_self": null,
            "border": null,
            "bottom": null,
            "display": null,
            "flex": null,
            "flex_flow": null,
            "grid_area": null,
            "grid_auto_columns": null,
            "grid_auto_flow": null,
            "grid_auto_rows": null,
            "grid_column": null,
            "grid_gap": null,
            "grid_row": null,
            "grid_template_areas": null,
            "grid_template_columns": null,
            "grid_template_rows": null,
            "height": null,
            "justify_content": null,
            "justify_items": null,
            "left": null,
            "margin": null,
            "max_height": null,
            "max_width": null,
            "min_height": null,
            "min_width": null,
            "object_fit": null,
            "object_position": null,
            "order": null,
            "overflow": null,
            "overflow_x": null,
            "overflow_y": null,
            "padding": null,
            "right": null,
            "top": null,
            "visibility": null,
            "width": null
          }
        },
        "335360de9af845bbbe40edf44574b044": {
          "model_module": "@jupyter-widgets/controls",
          "model_name": "DescriptionStyleModel",
          "model_module_version": "1.5.0",
          "state": {
            "_model_module": "@jupyter-widgets/controls",
            "_model_module_version": "1.5.0",
            "_model_name": "DescriptionStyleModel",
            "_view_count": null,
            "_view_module": "@jupyter-widgets/base",
            "_view_module_version": "1.2.0",
            "_view_name": "StyleView",
            "description_width": ""
          }
        }
      }
    }
  },
  "cells": [
    {
      "cell_type": "markdown",
      "metadata": {
        "id": "view-in-github",
        "colab_type": "text"
      },
      "source": [
        "<a href=\"https://colab.research.google.com/github/wwan0255/PETalk/blob/main/FIT5215_DeepLearning_Assignment2_Official%5BTransformers%5D.ipynb\" target=\"_parent\"><img src=\"https://colab.research.google.com/assets/colab-badge.svg\" alt=\"Open In Colab\"/></a>"
      ]
    },
    {
      "cell_type": "markdown",
      "source": [
        "# <font color=\"#0b486b\">  FIT5215: Deep Learning (2025) - Assignment 2 (Section II)</font>\n",
        "***\n",
        "*CE/Lecturer (Clayton):*  **Dr Trung Le** | trunglm@monash.edu <br/>\n",
        "*Lecturer (Clayton):* **A/Prof Zongyuan Ge** | zongyuan.ge@monash.edu <br/>\n",
        "*Lecturer (Malaysia):*  **Dr Arghya Pal** | arghya.pal@monash.edu <br/>\n",
        " <br/>\n",
        "*Head Tutor 3181:*  **Ms Ruda Nie H** |  \\[RudaNie.H@monash.edu \\] <br/>\n",
        "*Head Tutor 5215:*  **Ms Leila Mahmoodi** |  \\[leila.mahmoodi@monash.edu \\]\n",
        "\n",
        "<br/> <br/>\n",
        "Faculty of Information Technology, Monash University, Australia\n",
        "***"
      ],
      "metadata": {
        "id": "qEHyseHxA8q4"
      }
    },
    {
      "cell_type": "markdown",
      "source": [
        "# <font color=\"#0b486b\">  Student Information</font>\n",
        "***\n",
        "Surname: **[Wang]**  <br/>\n",
        "Firstname: **[Shuaiqi]**    <br/>\n",
        "Student ID: **[35630418]**    <br/>\n",
        "Email: **[wwan0255@student.monash.edu]**    <br/>\n",
        "Your tutorial time: **[12-2pm，Wednesday]**    <br/>\n",
        "***"
      ],
      "metadata": {
        "id": "QqMi8gdDBD1L"
      }
    },
    {
      "cell_type": "markdown",
      "source": [
        "# <font color=\"0b486b\">Assignment 2 – Deep Learning for Sequential Data</font>\n",
        "### Due: <font color=\"red\">11:55pm Sunday, 26 October 2025</font> (FIT5215)\n",
        "\n",
        "#### <font color=\"red\">Important note:</font> This is an **individual** assignment. It contributes **20%** to your final mark. Read the assignment instructions carefully."
      ],
      "metadata": {
        "id": "BLGpdQp2BPOU"
      }
    },
    {
      "cell_type": "markdown",
      "source": [
        "## <font color=\"#0b486b\">Assignment 2's Organization</font>\n",
        "This assignment 2 has two (2) sections:\n",
        "- Section 1: Fundamentals of RNNs (10 marks).\n",
        "- Section 2: Deep Learning for Sequential Data (90 marks). This section is further divided into 4 parts.\n",
        "\n",
        "The assignment 2 is organized in three (3) notebooks.\n",
        "- Notebook 1 ([link](https://colab.research.google.com/drive/1hTS6bWz6gU-lvi1qkIhrtQnJ3tzxRPFK?usp=sharing\n",
        ")) [Total: 30 marks] includes Section 1 as well as Part 1 and Part 2 of Section 2.\n",
        "- Notebook 2 ([link](https://colab.research.google.com/drive/1m0mh9Mk4-AKEhgAHRwQdl5mc0x7SF7Tv?usp=sharing)) [Total: 40 marks] includes Part 3 of Section 2.\n",
        "- Notebook 3 (this notebook) [Total: 30 marks] includes Part 4 of Section 2.\n"
      ],
      "metadata": {
        "id": "PF8vqRzTCEsm"
      }
    },
    {
      "cell_type": "markdown",
      "source": [
        "## <font color=\"#0b486b\">What to submit</font>\n",
        "\n",
        "This assignment is to be completed individually and submitted to Moodle unit site. **By the due date, you are required to submit one  <font color=\"red; font-weight:bold\">single zip file, named xxx_assignment02_solution.zip</font> where `xxx` is your student ID, to the corresponding Assignment (Dropbox) in Moodle**. You can use Google Colab to do Assignment 2 but you need to save it to an `*.ipynb` file to submit to the unit Moodle.\n",
        "\n",
        "**More importantly, if you use Google Colab to do this assignment, you need to first make a copy of this notebook on your Google drive**."
      ],
      "metadata": {
        "id": "UbY5tyqK37Iw"
      }
    },
    {
      "cell_type": "markdown",
      "source": [
        "***For example, if your student ID is <font color=\"red; font-weight:bold\">12356</font>, then gather all of your assignment solutions to a folder, create a zip file named <font color=\"red; font-weight:bold\">123456_assignment02_solution.zip</font> and submit this file.***"
      ],
      "metadata": {
        "id": "cg1MdTwq37I6"
      }
    },
    {
      "cell_type": "markdown",
      "source": [
        "Within this zip folder, you **must** submit the following files <u>for each part</u>:\n",
        "1.\t**`FIT5215_DeepLearning_Assignment2_Official[Main].ipynb`**:  this is your Python notebook solution source file.\n",
        "1.\t**`FIT5215_DeepLearning_Assignment2_Official[Main].html`**: this is the output of your Python notebook solution *exported* in HTML format.\n",
        "1. **`FIT5215_DeepLearning_Assignment2_Official[RNNs].ipynb`**\n",
        "1. **`FIT5215_DeepLearning_Assignment2_Official[RNNs].html`**\n",
        "1. **`FIT5215_DeepLearning_Assignment2_Official[Transformers].ipynb`**\n",
        "1. **`FIT5215_DeepLearning_Assignment2_Official[Transformers].html`**\n",
        "1.\tAny **extra files or folder** needed to complete your assignment (e.g., images used in your answers).\n",
        "\n"
      ],
      "metadata": {
        "id": "prEJdUhB37I6"
      }
    },
    {
      "cell_type": "markdown",
      "source": [
        "## Section 2: Deep Learning for Sequential Data"
      ],
      "metadata": {
        "id": "rAVPM0BnTdd4"
      }
    },
    {
      "cell_type": "markdown",
      "source": [
        "### <font color=\"#0b486b\">Set random seeds</font>"
      ],
      "metadata": {
        "id": "FAgUSME4TsCP"
      }
    },
    {
      "cell_type": "markdown",
      "source": [
        "We need to install the package datasets for creating BERT datasets."
      ],
      "metadata": {
        "id": "5DaYHAIv4poj"
      }
    },
    {
      "cell_type": "code",
      "source": [
        "!pip install datasets"
      ],
      "metadata": {
        "colab": {
          "base_uri": "https://localhost:8080/"
        },
        "id": "o7ik_46Y4vDo",
        "outputId": "782ebd0b-1b2c-4178-a613-abdf7bec5f22"
      },
      "execution_count": 6,
      "outputs": [
        {
          "output_type": "stream",
          "name": "stdout",
          "text": [
            "Requirement already satisfied: datasets in /usr/local/lib/python3.12/dist-packages (4.3.0)\n",
            "Requirement already satisfied: filelock in /usr/local/lib/python3.12/dist-packages (from datasets) (3.20.0)\n",
            "Requirement already satisfied: numpy>=1.17 in /usr/local/lib/python3.12/dist-packages (from datasets) (2.0.2)\n",
            "Requirement already satisfied: pyarrow>=21.0.0 in /usr/local/lib/python3.12/dist-packages (from datasets) (22.0.0)\n",
            "Requirement already satisfied: dill<0.4.1,>=0.3.0 in /usr/local/lib/python3.12/dist-packages (from datasets) (0.3.8)\n",
            "Requirement already satisfied: pandas in /usr/local/lib/python3.12/dist-packages (from datasets) (2.2.2)\n",
            "Requirement already satisfied: requests>=2.32.2 in /usr/local/lib/python3.12/dist-packages (from datasets) (2.32.4)\n",
            "Requirement already satisfied: httpx<1.0.0 in /usr/local/lib/python3.12/dist-packages (from datasets) (0.28.1)\n",
            "Requirement already satisfied: tqdm>=4.66.3 in /usr/local/lib/python3.12/dist-packages (from datasets) (4.67.1)\n",
            "Requirement already satisfied: xxhash in /usr/local/lib/python3.12/dist-packages (from datasets) (3.6.0)\n",
            "Requirement already satisfied: multiprocess<0.70.17 in /usr/local/lib/python3.12/dist-packages (from datasets) (0.70.16)\n",
            "Requirement already satisfied: fsspec<=2025.9.0,>=2023.1.0 in /usr/local/lib/python3.12/dist-packages (from fsspec[http]<=2025.9.0,>=2023.1.0->datasets) (2025.3.0)\n",
            "Requirement already satisfied: huggingface-hub<2.0,>=0.25.0 in /usr/local/lib/python3.12/dist-packages (from datasets) (0.36.0)\n",
            "Requirement already satisfied: packaging in /usr/local/lib/python3.12/dist-packages (from datasets) (25.0)\n",
            "Requirement already satisfied: pyyaml>=5.1 in /usr/local/lib/python3.12/dist-packages (from datasets) (6.0.3)\n",
            "Requirement already satisfied: aiohttp!=4.0.0a0,!=4.0.0a1 in /usr/local/lib/python3.12/dist-packages (from fsspec[http]<=2025.9.0,>=2023.1.0->datasets) (3.13.1)\n",
            "Requirement already satisfied: anyio in /usr/local/lib/python3.12/dist-packages (from httpx<1.0.0->datasets) (4.11.0)\n",
            "Requirement already satisfied: certifi in /usr/local/lib/python3.12/dist-packages (from httpx<1.0.0->datasets) (2025.10.5)\n",
            "Requirement already satisfied: httpcore==1.* in /usr/local/lib/python3.12/dist-packages (from httpx<1.0.0->datasets) (1.0.9)\n",
            "Requirement already satisfied: idna in /usr/local/lib/python3.12/dist-packages (from httpx<1.0.0->datasets) (3.11)\n",
            "Requirement already satisfied: h11>=0.16 in /usr/local/lib/python3.12/dist-packages (from httpcore==1.*->httpx<1.0.0->datasets) (0.16.0)\n",
            "Requirement already satisfied: typing-extensions>=3.7.4.3 in /usr/local/lib/python3.12/dist-packages (from huggingface-hub<2.0,>=0.25.0->datasets) (4.15.0)\n",
            "Requirement already satisfied: hf-xet<2.0.0,>=1.1.3 in /usr/local/lib/python3.12/dist-packages (from huggingface-hub<2.0,>=0.25.0->datasets) (1.2.0)\n",
            "Requirement already satisfied: charset_normalizer<4,>=2 in /usr/local/lib/python3.12/dist-packages (from requests>=2.32.2->datasets) (3.4.4)\n",
            "Requirement already satisfied: urllib3<3,>=1.21.1 in /usr/local/lib/python3.12/dist-packages (from requests>=2.32.2->datasets) (2.5.0)\n",
            "Requirement already satisfied: python-dateutil>=2.8.2 in /usr/local/lib/python3.12/dist-packages (from pandas->datasets) (2.9.0.post0)\n",
            "Requirement already satisfied: pytz>=2020.1 in /usr/local/lib/python3.12/dist-packages (from pandas->datasets) (2025.2)\n",
            "Requirement already satisfied: tzdata>=2022.7 in /usr/local/lib/python3.12/dist-packages (from pandas->datasets) (2025.2)\n",
            "Requirement already satisfied: aiohappyeyeballs>=2.5.0 in /usr/local/lib/python3.12/dist-packages (from aiohttp!=4.0.0a0,!=4.0.0a1->fsspec[http]<=2025.9.0,>=2023.1.0->datasets) (2.6.1)\n",
            "Requirement already satisfied: aiosignal>=1.4.0 in /usr/local/lib/python3.12/dist-packages (from aiohttp!=4.0.0a0,!=4.0.0a1->fsspec[http]<=2025.9.0,>=2023.1.0->datasets) (1.4.0)\n",
            "Requirement already satisfied: attrs>=17.3.0 in /usr/local/lib/python3.12/dist-packages (from aiohttp!=4.0.0a0,!=4.0.0a1->fsspec[http]<=2025.9.0,>=2023.1.0->datasets) (25.4.0)\n",
            "Requirement already satisfied: frozenlist>=1.1.1 in /usr/local/lib/python3.12/dist-packages (from aiohttp!=4.0.0a0,!=4.0.0a1->fsspec[http]<=2025.9.0,>=2023.1.0->datasets) (1.8.0)\n",
            "Requirement already satisfied: multidict<7.0,>=4.5 in /usr/local/lib/python3.12/dist-packages (from aiohttp!=4.0.0a0,!=4.0.0a1->fsspec[http]<=2025.9.0,>=2023.1.0->datasets) (6.7.0)\n",
            "Requirement already satisfied: propcache>=0.2.0 in /usr/local/lib/python3.12/dist-packages (from aiohttp!=4.0.0a0,!=4.0.0a1->fsspec[http]<=2025.9.0,>=2023.1.0->datasets) (0.4.1)\n",
            "Requirement already satisfied: yarl<2.0,>=1.17.0 in /usr/local/lib/python3.12/dist-packages (from aiohttp!=4.0.0a0,!=4.0.0a1->fsspec[http]<=2025.9.0,>=2023.1.0->datasets) (1.22.0)\n",
            "Requirement already satisfied: six>=1.5 in /usr/local/lib/python3.12/dist-packages (from python-dateutil>=2.8.2->pandas->datasets) (1.17.0)\n",
            "Requirement already satisfied: sniffio>=1.1 in /usr/local/lib/python3.12/dist-packages (from anyio->httpx<1.0.0->datasets) (1.3.1)\n"
          ]
        }
      ]
    },
    {
      "cell_type": "markdown",
      "source": [
        "We start with importing PyTorch and NumPy and setting random seeds for PyTorch and NumPy. You can use any seeds you prefer."
      ],
      "metadata": {
        "id": "g6b0SM034sf2"
      }
    },
    {
      "cell_type": "code",
      "source": [
        "import os\n",
        "import torch\n",
        "import random\n",
        "import requests\n",
        "import pandas as pd\n",
        "import numpy as np\n",
        "import torch.nn as nn\n",
        "from torch.utils.data import DataLoader\n",
        "from torch.nn.utils.rnn import pad_sequence\n",
        "from transformers import BertTokenizer\n",
        "import os\n",
        "from six.moves.urllib.request import urlretrieve\n",
        "from sklearn import preprocessing\n",
        "import matplotlib.pyplot as plt\n",
        "plt.style.use('ggplot')"
      ],
      "metadata": {
        "id": "O7XWUry0JXCc"
      },
      "execution_count": 15,
      "outputs": []
    },
    {
      "cell_type": "code",
      "source": [
        "def seed_all(seed=1029):\n",
        "    random.seed(seed)\n",
        "    os.environ['PYTHONHASHSEED'] = str(seed)\n",
        "    np.random.seed(seed)\n",
        "    torch.manual_seed(seed)\n",
        "    torch.cuda.manual_seed(seed)\n",
        "    torch.cuda.manual_seed_all(seed)  # if you are using multi-GPU.\n",
        "    torch.backends.cudnn.benchmark = False\n",
        "    torch.backends.cudnn.deterministic = True\n",
        "seed_all(seed=1234)\n",
        "\n",
        "device = torch.device(\"cuda\" if torch.cuda.is_available() else \"cpu\")"
      ],
      "metadata": {
        "id": "6ZoWqunmUY7L"
      },
      "execution_count": 16,
      "outputs": []
    },
    {
      "cell_type": "markdown",
      "source": [
        "## <font color=\"#0b486b\">Download and preprocess the data</font>\n",
        "\n",
        "<div style=\"text-align: right\"><font color=\"red; font-weight:bold\"><span></div>"
      ],
      "metadata": {
        "id": "6VU1jS6SUl8q"
      }
    },
    {
      "cell_type": "markdown",
      "source": [
        "The dataset we use for this assignment is a question classification dataset for which the training set consists of $5,500$ questions belonging to 6 coarse question categories including:\n",
        "- abbreviation (ABBR),\n",
        "- entity (ENTY),\n",
        "- description (DESC),\n",
        "- human (HUM),\n",
        "- location (LOC) and\n",
        "- numeric (NUM).\n",
        "\n",
        "In this assignment, we will utilize a subset of this dataset, containing $2,000$ questions for training and validation. We will use 80% of those 2000 questions for trainning and the rest for validation.\n"
      ],
      "metadata": {
        "id": "wQEzWmZjUulL"
      }
    },
    {
      "cell_type": "markdown",
      "source": [
        "Preprocessing data is a crucial initial step in any machine learning or deep learning project. The *TextDataManager* class simplifies the process by providing functionalities to download and preprocess data specifically designed for the subsequent questions in this assignment. It is highly recommended to gain a comprehensive understanding of the class's functionality by **carefully reading** the content provided in the *TextDataManager* class before proceeding to answer the questions."
      ],
      "metadata": {
        "id": "zOd49RTpUxxj"
      }
    },
    {
      "cell_type": "code",
      "source": [
        "class DataManager:\n",
        "    \"\"\"\n",
        "    This class manages and preprocesses a simple text dataset for a sentence classification task.\n",
        "\n",
        "    Attributes:\n",
        "        verbose (bool): Controls verbosity for printing information during data processing.\n",
        "        max_sentence_len (int): The maximum length of a sentence in the dataset.\n",
        "        str_questions (list): A list to store the string representations of the questions in the dataset.\n",
        "        str_labels (list): A list to store the string representations of the labels in the dataset.\n",
        "        numeral_labels (list): A list to store the numerical representations of the labels in the dataset.\n",
        "        maxlen (int): Maximum length for padding sequences. Sequences longer than this length will be truncated,\n",
        "            and sequences shorter than this length will be padded with zeros. Defaults to 50.\n",
        "        numeral_data (list): A list to store the numerical representations of the questions in the dataset.\n",
        "        random_state (int): Seed value for random number generation to ensure reproducibility.\n",
        "            Set this value to a specific integer to reproduce the same random sequence every time. Defaults to 6789.\n",
        "        random (np.random.RandomState): Random number generator object initialized with the given random_state.\n",
        "            It is used for various random operations in the class.\n",
        "\n",
        "    Methods:\n",
        "        maybe_download(dir_name, file_name, url, verbose=True):\n",
        "            Downloads a file from a given URL if it does not exist in the specified directory.\n",
        "            The directory and file are created if they do not exist.\n",
        "\n",
        "        read_data(dir_name, file_names):\n",
        "            Reads data from files in a directory, preprocesses it, and computes the maximum sentence length.\n",
        "            Each file is expected to contain rows in the format \"<label>:<question>\".\n",
        "            The labels and questions are stored as string representations.\n",
        "\n",
        "        manipulate_data():\n",
        "            Performs data manipulation by tokenizing, numericalizing, and padding the text data.\n",
        "            The questions are tokenized and converted into numerical sequences using a tokenizer.\n",
        "            The sequences are padded or truncated to the maximum sequence length.\n",
        "\n",
        "        train_valid_test_split(train_ratio=0.9):\n",
        "            Splits the data into training, validation, and test sets based on a given ratio.\n",
        "            The data is randomly shuffled, and the specified ratio is used to determine the size of the training set.\n",
        "            The string questions, numerical data, and numerical labels are split accordingly.\n",
        "            TensorFlow `Dataset` objects are created for the training and validation sets.\n",
        "\n",
        "\n",
        "    \"\"\"\n",
        "\n",
        "    def __init__(self, verbose=True, random_state=6789):\n",
        "        self.verbose = verbose\n",
        "        self.max_sentence_len = 0\n",
        "        self.str_questions = list()\n",
        "        self.str_labels = list()\n",
        "        self.numeral_labels = list()\n",
        "        self.numeral_data = list()\n",
        "        self.random_state = random_state\n",
        "        self.random = np.random.RandomState(random_state)\n",
        "\n",
        "    @staticmethod\n",
        "    def maybe_download(dir_name, file_name, url, verbose=True):\n",
        "        if not os.path.exists(dir_name):\n",
        "            os.mkdir(dir_name)\n",
        "        if not os.path.exists(os.path.join(dir_name, file_name)):\n",
        "            urlretrieve(url + file_name, os.path.join(dir_name, file_name))\n",
        "        if verbose:\n",
        "            print(\"Downloaded successfully {}\".format(file_name))\n",
        "\n",
        "    def read_data(self, dir_name, file_names):\n",
        "        self.str_questions = list()\n",
        "        self.str_labels = list()\n",
        "        for file_name in file_names:\n",
        "            file_path= os.path.join(dir_name, file_name)\n",
        "            with open(file_path, \"r\", encoding=\"latin-1\") as f:\n",
        "                for row in f:\n",
        "                    row_str = row.split(\":\")\n",
        "                    label, question = row_str[0], row_str[1]\n",
        "                    question = question.lower()\n",
        "                    self.str_labels.append(label)\n",
        "                    self.str_questions.append(question[0:-1])\n",
        "                    if self.max_sentence_len < len(self.str_questions[-1]):\n",
        "                        self.max_sentence_len = len(self.str_questions[-1])\n",
        "\n",
        "        # turns labels into numbers\n",
        "        le = preprocessing.LabelEncoder()\n",
        "        le.fit(self.str_labels)\n",
        "        self.numeral_labels = np.array(le.transform(self.str_labels))\n",
        "        self.str_classes = le.classes_\n",
        "        self.num_classes = len(self.str_classes)\n",
        "        if self.verbose:\n",
        "            print(\"\\nSample questions and corresponding labels... \\n\")\n",
        "            print(self.str_questions[0:5])\n",
        "            print(self.str_labels[0:5])\n",
        "\n",
        "    def manipulate_data(self):\n",
        "        self.tokenizer = BertTokenizer.from_pretrained('bert-base-uncased')\n",
        "        vocab = self.tokenizer.get_vocab()\n",
        "        self.word2idx = {w: i for i, w in enumerate(vocab)}\n",
        "        self.idx2word = {i:w for w,i in self.word2idx.items()}\n",
        "        self.vocab_size = len(self.word2idx)\n",
        "\n",
        "        token_ids = []\n",
        "        num_seqs = []\n",
        "        for text in self.str_questions:  # iterate over the list of text\n",
        "          text_seqs = self.tokenizer.tokenize(str(text))  # tokenize each text individually\n",
        "          # Convert tokens to IDs\n",
        "          token_ids = self.tokenizer.convert_tokens_to_ids(text_seqs)\n",
        "          # Convert token IDs to a tensor of indices using your word2idx mapping\n",
        "          seq_tensor = torch.LongTensor(token_ids)\n",
        "          num_seqs.append(seq_tensor)  # append the tensor for each sequence\n",
        "\n",
        "        # Pad the sequences and create a tensor\n",
        "        if num_seqs:\n",
        "          self.numeral_data = pad_sequence(num_seqs, batch_first=True)  # Pads to max length of the sequences\n",
        "          self.num_sentences, self.max_seq_len = self.numeral_data.shape\n",
        "\n",
        "\n",
        "    def train_valid_test_split(self, train_ratio=0.8, test_ratio = 0.1):\n",
        "        num_sentences = self.numeral_data.shape[0]\n",
        "        train_size = int(num_sentences*train_ratio) +1\n",
        "        test_size = int(num_sentences*test_ratio) +1\n",
        "        valid_size = num_sentences - (train_size + test_size)\n",
        "        data_indices = list(range(num_sentences))\n",
        "        random.shuffle(data_indices)\n",
        "\n",
        "        train_set_data = self.numeral_data[data_indices[:train_size]]\n",
        "        train_set_labels = self.numeral_labels[data_indices[:train_size]]\n",
        "        train_set_labels = torch.from_numpy(train_set_labels)\n",
        "        train_set = torch.utils.data.TensorDataset(train_set_data, train_set_labels)\n",
        "\n",
        "        test_set_data = self.numeral_data[data_indices[-test_size:]]\n",
        "        test_set_labels = self.numeral_labels[data_indices[-test_size:]]\n",
        "        test_set_labels = torch.from_numpy(test_set_labels)\n",
        "        test_set = torch.utils.data.TensorDataset(test_set_data, test_set_labels)\n",
        "\n",
        "        valid_set_data = self.numeral_data[data_indices[train_size:-test_size]]\n",
        "        valid_set_labels = self.numeral_labels[data_indices[train_size:-test_size]]\n",
        "        valid_set_labels = torch.from_numpy(valid_set_labels)\n",
        "        valid_set = torch.utils.data.TensorDataset(valid_set_data, valid_set_labels)\n",
        "\n",
        "        self.train_loader = DataLoader(train_set, batch_size=64, shuffle=True)\n",
        "        self.test_loader = DataLoader(test_set, batch_size=64, shuffle=False)\n",
        "        self.valid_loader = DataLoader(valid_set, batch_size=64, shuffle=False)"
      ],
      "metadata": {
        "id": "_C2fuJNzUhha"
      },
      "execution_count": 17,
      "outputs": []
    },
    {
      "cell_type": "code",
      "source": [
        "print('Loading data...')\n",
        "DataManager.maybe_download(\"data\", \"train_2000.label\", \"http://cogcomp.org/Data/QA/QC/\")\n",
        "\n",
        "dm = DataManager()\n",
        "dm.read_data(\"data/\", [\"train_2000.label\"])"
      ],
      "metadata": {
        "colab": {
          "base_uri": "https://localhost:8080/"
        },
        "id": "3npdESj6Vb_t",
        "outputId": "561585c9-9178-47fb-ebe9-0cf5623aacba"
      },
      "execution_count": 18,
      "outputs": [
        {
          "output_type": "stream",
          "name": "stdout",
          "text": [
            "Loading data...\n",
            "Downloaded successfully train_2000.label\n",
            "\n",
            "Sample questions and corresponding labels... \n",
            "\n",
            "['manner how did serfdom develop in and then leave russia ?', 'cremat what films featured the character popeye doyle ?', \"manner how can i find a list of celebrities ' real names ?\", 'animal what fowl grabs the spotlight after the chinese year of the monkey ?', 'exp what is the full form of .com ?']\n",
            "['DESC', 'ENTY', 'DESC', 'ENTY', 'ABBR']\n"
          ]
        }
      ]
    },
    {
      "cell_type": "code",
      "source": [
        "dm.manipulate_data()\n",
        "dm.train_valid_test_split(train_ratio=0.8, test_ratio = 0.1)"
      ],
      "metadata": {
        "id": "EgrYZPmyVj60"
      },
      "execution_count": 19,
      "outputs": []
    },
    {
      "cell_type": "code",
      "source": [
        "for x, y in dm.train_loader:\n",
        "    print(x.shape, y.shape)\n",
        "    break"
      ],
      "metadata": {
        "colab": {
          "base_uri": "https://localhost:8080/"
        },
        "id": "bH-U0sUMVnW-",
        "outputId": "27824796-38d5-4398-9f07-a211726aa782"
      },
      "execution_count": 20,
      "outputs": [
        {
          "output_type": "stream",
          "name": "stdout",
          "text": [
            "torch.Size([64, 36]) torch.Size([64])\n"
          ]
        }
      ]
    },
    {
      "cell_type": "markdown",
      "source": [
        "We now declare the `BaseTrainer` class, which will be used later to train the subsequent deep learning models for text data."
      ],
      "metadata": {
        "id": "lPPrm2_FHj-j"
      }
    },
    {
      "cell_type": "code",
      "source": [
        "device = torch.device(\"cuda\" if torch.cuda.is_available() else \"cpu\")\n",
        "\n",
        "class BaseTrainer:\n",
        "    def __init__(self, model, criterion, optimizer, train_loader, val_loader):\n",
        "        self.model = model\n",
        "        self.criterion = criterion  #the loss function\n",
        "        self.optimizer = optimizer  #the optimizer\n",
        "        self.train_loader = train_loader  #the train loader\n",
        "        self.val_loader = val_loader  #the valid loader\n",
        "\n",
        "    #the function to train the model in many epochs\n",
        "    def fit(self, num_epochs):\n",
        "        self.num_batches = len(self.train_loader)\n",
        "\n",
        "        for epoch in range(num_epochs):\n",
        "            print(f'Epoch {epoch + 1}/{num_epochs}')\n",
        "            train_loss, train_accuracy = self.train_one_epoch()\n",
        "            val_loss, val_accuracy = self.validate_one_epoch()\n",
        "            print(\n",
        "                f'{self.num_batches}/{self.num_batches} - train_loss: {train_loss:.4f} - train_accuracy: {train_accuracy*100:.4f}% \\\n",
        "                - val_loss: {val_loss:.4f} - val_accuracy: {val_accuracy*100:.4f}%')\n",
        "\n",
        "    #train in one epoch, return the train_acc, train_loss\n",
        "    def train_one_epoch(self):\n",
        "        self.model.train()\n",
        "        running_loss, correct, total = 0.0, 0, 0\n",
        "        for i, data in enumerate(self.train_loader):\n",
        "            inputs, labels = data\n",
        "            inputs, labels = inputs.to(device), labels.to(device)\n",
        "            self.optimizer.zero_grad()\n",
        "            outputs = self.model(inputs)\n",
        "            loss = self.criterion(outputs, labels)\n",
        "            loss.backward()\n",
        "            self.optimizer.step()\n",
        "\n",
        "            running_loss += loss.item()\n",
        "            _, predicted = torch.max(outputs.data, 1)\n",
        "            total += labels.size(0)\n",
        "            correct += (predicted == labels).sum().item()\n",
        "        train_accuracy = correct / total\n",
        "        train_loss = running_loss / self.num_batches\n",
        "        return train_loss, train_accuracy\n",
        "\n",
        "    #evaluate on a loader and return the loss and accuracy\n",
        "    def evaluate(self, loader):\n",
        "        self.model.eval()\n",
        "        loss, correct, total = 0.0, 0, 0\n",
        "        with torch.no_grad():\n",
        "            for data in loader:\n",
        "                inputs, labels = data\n",
        "                inputs, labels = inputs.to(device), labels.to(device)\n",
        "                outputs = self.model(inputs)\n",
        "                loss = self.criterion(outputs, labels)\n",
        "                loss += loss.item()\n",
        "                _, predicted = torch.max(outputs.data, 1)\n",
        "                total += labels.size(0)\n",
        "                correct += (predicted == labels).sum().item()\n",
        "\n",
        "        accuracy = correct / total\n",
        "        loss = loss / len(self.val_loader)\n",
        "        return loss, accuracy\n",
        "\n",
        "    #return the val_acc, val_loss, be called at the end of each epoch\n",
        "    def validate_one_epoch(self):\n",
        "      val_loss, val_accuracy = self.evaluate(self.val_loader)\n",
        "      return val_loss, val_accuracy"
      ],
      "metadata": {
        "id": "yXlNQvGn7OEb"
      },
      "execution_count": 22,
      "outputs": []
    },
    {
      "cell_type": "markdown",
      "source": [
        "## <font color=\"#0b486b\">Part 4: Transformer-based models for sequence modeling and neural embedding</font>\n",
        "\n",
        "<div style=\"text-align: right\"><font color=\"red; font-weight:bold\">[Total marks for this part: 30 marks]<span></div>"
      ],
      "metadata": {
        "id": "sPvLRNDfoSq-"
      }
    },
    {
      "cell_type": "markdown",
      "source": [
        "#### <font color=\"red\">**Question 4.1**</font>\n",
        "\n",
        "**Implement the multi-head attention module of the Transformer for the text classification problem. The provided code is from our tutorial. In this part, we only use the output of the Transformer encoder for the classification task. For further information on the Transformer model, refer to [this paper](https://proceedings.neurips.cc/paper_files/paper/2017/file/3f5ee243547dee91fbd053c1c4a845aa-Paper.pdf).**\n",
        "\n",
        "<div style=\"text-align: right\"><font color=\"red; font-weight:bold\">[Total marks for this part: 10 marks]<span></div>\n"
      ],
      "metadata": {
        "id": "QOoskR7Ko6Iv"
      }
    },
    {
      "cell_type": "markdown",
      "source": [
        "Below is the code of `MultiHeadSelfAttention`, `PositionWiseFeedForward`, `PositionalEncoding`, and `EncoderLayer`."
      ],
      "metadata": {
        "id": "LUnK0WBspLDK"
      }
    },
    {
      "cell_type": "code",
      "source": [
        "class MultiHeadAttention(nn.Module):\n",
        "    def __init__(self, d_model, num_heads):\n",
        "        super(MultiHeadAttention, self).__init__()\n",
        "        # Ensure that the model dimension (d_model) is divisible by the number of heads\n",
        "        assert d_model % num_heads == 0, \"d_model must be divisible by num_heads\"\n",
        "\n",
        "        # Initialize dimensions\n",
        "        self.d_model = d_model # Model's dimension\n",
        "        self.num_heads = num_heads # Number of attention heads\n",
        "        self.d_k = d_model // num_heads # Dimension of each head's key, query, and value\n",
        "\n",
        "        # Linear layers for transforming inputs\n",
        "        self.W_q = nn.Linear(d_model, d_model) # Query transformation\n",
        "        self.W_k = nn.Linear(d_model, d_model) # Key transformation\n",
        "        self.W_v = nn.Linear(d_model, d_model) # Value transformation\n",
        "        self.W_o = nn.Linear(d_model, d_model) # Output transformation\n",
        "\n",
        "    def scaled_dot_product_attention(self, Q, K, V):\n",
        "        # Calculate attention scores\n",
        "        attn_scores = torch.matmul(Q, K.transpose(-2, -1)) / math.sqrt(self.d_k)\n",
        "\n",
        "        # Apply mask if provided (useful for preventing attention to certain parts like padding)\n",
        "        #if mask is not None:\n",
        "            #attn_scores = attn_scores.masked_fill(mask == 0, -1e9)\n",
        "\n",
        "        # Softmax is applied to obtain attention probabilities\n",
        "        attn_probs = torch.softmax(attn_scores, dim=-1)\n",
        "\n",
        "        # Multiply by values to obtain the final output\n",
        "        output = torch.matmul(attn_probs, V)\n",
        "        return output\n",
        "\n",
        "    def split_heads(self, x):\n",
        "        # Reshape the input to have num_heads for multi-head attention\n",
        "        batch_size, seq_length, d_model = x.size()\n",
        "        return x.view(batch_size, seq_length, self.num_heads, self.d_k).transpose(1, 2)\n",
        "\n",
        "    def combine_heads(self, x):\n",
        "        # Combine the multiple heads back to original shape\n",
        "        batch_size, _, seq_length, d_k = x.size()\n",
        "        return x.transpose(1, 2).contiguous().view(batch_size, seq_length, self.d_model)\n",
        "\n",
        "    def forward(self, Q, K, V):\n",
        "        # Apply linear transformations and split heads\n",
        "        Q = self.split_heads(self.W_q(Q))\n",
        "        K = self.split_heads(self.W_k(K))\n",
        "        V = self.split_heads(self.W_v(V))\n",
        "\n",
        "        # Perform scaled dot-product attention\n",
        "        attn_output = self.scaled_dot_product_attention(Q, K, V)\n",
        "\n",
        "        # Combine heads and apply output transformation\n",
        "        output = self.W_o(self.combine_heads(attn_output))\n",
        "        return output"
      ],
      "metadata": {
        "id": "PERuLdjTZpAl"
      },
      "execution_count": 23,
      "outputs": []
    },
    {
      "cell_type": "code",
      "source": [
        "class PositionWiseFeedForward(nn.Module):\n",
        "    def __init__(self, d_model, d_ff):\n",
        "        super(PositionWiseFeedForward, self).__init__()\n",
        "        self.fc1 = nn.Linear(d_model, d_ff)\n",
        "        self.fc2 = nn.Linear(d_ff, d_model)\n",
        "        self.relu = nn.ReLU()\n",
        "\n",
        "    def forward(self, x):\n",
        "        return self.fc2(self.relu(self.fc1(x)))"
      ],
      "metadata": {
        "id": "J4MZuO59pR0T"
      },
      "execution_count": 24,
      "outputs": []
    },
    {
      "cell_type": "code",
      "source": [
        "import math\n",
        "\n",
        "class PositionalEncoding(nn.Module):\n",
        "    def __init__(self, d_model, max_seq_length):\n",
        "        super(PositionalEncoding, self).__init__()\n",
        "\n",
        "        pe = torch.zeros(max_seq_length, d_model)\n",
        "        position = torch.arange(0, max_seq_length, dtype=torch.float).unsqueeze(1)\n",
        "        div_term = torch.exp(torch.arange(0, d_model, 2).float() * -(math.log(10000.0) / d_model))\n",
        "\n",
        "        pe[:, 0::2] = torch.sin(position * div_term)\n",
        "        pe[:, 1::2] = torch.cos(position * div_term)\n",
        "\n",
        "        self.register_buffer('pe', pe.unsqueeze(0))\n",
        "\n",
        "    def forward(self, x):\n",
        "        return x + self.pe[:, :x.size(1)]"
      ],
      "metadata": {
        "id": "qq15ROA9pV3N"
      },
      "execution_count": 25,
      "outputs": []
    },
    {
      "cell_type": "code",
      "source": [
        "class EncoderLayer(nn.Module):\n",
        "    def __init__(self, d_model, num_heads, d_ff, dropout):\n",
        "        super(EncoderLayer, self).__init__()\n",
        "        self.self_attn = MultiHeadAttention(d_model, num_heads)\n",
        "        self.feed_forward = PositionWiseFeedForward(d_model, d_ff)\n",
        "        self.norm1 = nn.LayerNorm(d_model)\n",
        "        self.norm2 = nn.LayerNorm(d_model)\n",
        "        self.dropout = nn.Dropout(dropout)\n",
        "\n",
        "    def forward(self, x):\n",
        "        attn_output = self.self_attn(x, x, x)\n",
        "        x = self.norm1(x + self.dropout(attn_output))\n",
        "        ff_output = self.feed_forward(x)\n",
        "        x = self.norm2(x + self.dropout(ff_output))\n",
        "        return x"
      ],
      "metadata": {
        "id": "HKaj3paKqTmG"
      },
      "execution_count": 30,
      "outputs": []
    },
    {
      "cell_type": "markdown",
      "source": [
        "Your task is to develop `TransformerClassifier` in which we input the embedding with the shape `[batch_size, seq_len, embed_dim]` to some `EncoderLayer` (i.e., num_layers specifies the number of EncoderLayer) and then compute the average of all token embeddings (i.e., `[batch_size, seq_len, embed_dim]`) across the `seq_len`. Finally, on the top of this average embedding, we build up a linear layer for making predictions."
      ],
      "metadata": {
        "id": "pI9I1Gl1ptq8"
      }
    },
    {
      "cell_type": "code",
      "source": [
        "class TransformerClassifier(nn.Module):\n",
        "    def __init__(self, embed_dim, num_heads, ff_dim, num_layers, dropout_rate=0.2, data_manager = None):\n",
        "        super(TransformerClassifier, self).__init__()\n",
        "        self.vocab_size = data_manager.vocab_size\n",
        "        self.num_classes = data_manager.num_classes\n",
        "        self.embed_dim = embed_dim\n",
        "        self.max_seq_len = data_manager.max_seq_len\n",
        "        self.num_heads = num_heads\n",
        "        self.ff_dim = ff_dim\n",
        "        self.num_layers = num_layers\n",
        "        self.dropout_rate = dropout_rate\n",
        "\n",
        "        self.embedding = nn.Embedding(self.vocab_size, self.embed_dim)\n",
        "        self.positional_encoding = PositionalEncoding(self.embed_dim, self.max_seq_len)\n",
        "        self.encoder_layers = nn.ModuleList([\n",
        "            EncoderLayer(self.embed_dim, self.num_heads, self.ff_dim, self.dropout_rate)\n",
        "            for _ in range(self.num_layers)\n",
        "        ])\n",
        "        self.dropout = nn.Dropout(self.dropout_rate)\n",
        "        self.final_layer = nn.Linear(self.embed_dim, self.num_classes)\n",
        "\n",
        "\n",
        "    def forward(self, x):\n",
        "        # ids -> embeddings\n",
        "        x = self.embedding(x)\n",
        "        # add positions\n",
        "        x = self.positional_encoding(x)\n",
        "        # dropout regularization\n",
        "        x = self.dropout(x)\n",
        "        # stacked Transformer encoders\n",
        "        for encoder_layer in self.encoder_layers:\n",
        "            x = encoder_layer(x)\n",
        "        # mean-pool over time\n",
        "        x = torch.mean(x, dim=1)\n",
        "        # logits (no softmax; CrossEntropyLoss expects logits)\n",
        "        x = self.final_layer(x)\n",
        "        return x"
      ],
      "metadata": {
        "id": "VwzVfN2dpY_p"
      },
      "execution_count": 26,
      "outputs": []
    },
    {
      "cell_type": "code",
      "source": [
        "transformer = TransformerClassifier(embed_dim=512, num_heads=8, ff_dim=2048, num_layers=6, dropout_rate=0.1, data_manager= dm)\n",
        "transformer = transformer.to(device)\n",
        "print(transformer)\n",
        "criterion = nn.CrossEntropyLoss()\n",
        "optimizer = torch.optim.Adam(transformer.parameters(), lr=1e-4, betas=(0.9, 0.98), eps=1e-9)\n",
        "trainer = BaseTrainer(model= transformer, criterion=criterion, optimizer=optimizer, train_loader=dm.train_loader, val_loader=dm.valid_loader)\n",
        "trainer.fit(num_epochs=30)"
      ],
      "metadata": {
        "id": "V4sjIOzQrn3b",
        "colab": {
          "base_uri": "https://localhost:8080/"
        },
        "outputId": "dbdd2a91-fb2a-4a0f-d474-0bc25fd3b440"
      },
      "execution_count": 31,
      "outputs": [
        {
          "output_type": "stream",
          "name": "stdout",
          "text": [
            "TransformerClassifier(\n",
            "  (embedding): Embedding(30522, 512)\n",
            "  (positional_encoding): PositionalEncoding()\n",
            "  (encoder_layers): ModuleList(\n",
            "    (0-5): 6 x EncoderLayer(\n",
            "      (self_attn): MultiHeadAttention(\n",
            "        (W_q): Linear(in_features=512, out_features=512, bias=True)\n",
            "        (W_k): Linear(in_features=512, out_features=512, bias=True)\n",
            "        (W_v): Linear(in_features=512, out_features=512, bias=True)\n",
            "        (W_o): Linear(in_features=512, out_features=512, bias=True)\n",
            "      )\n",
            "      (feed_forward): PositionWiseFeedForward(\n",
            "        (fc1): Linear(in_features=512, out_features=2048, bias=True)\n",
            "        (fc2): Linear(in_features=2048, out_features=512, bias=True)\n",
            "        (relu): ReLU()\n",
            "      )\n",
            "      (norm1): LayerNorm((512,), eps=1e-05, elementwise_affine=True)\n",
            "      (norm2): LayerNorm((512,), eps=1e-05, elementwise_affine=True)\n",
            "      (dropout): Dropout(p=0.1, inplace=False)\n",
            "    )\n",
            "  )\n",
            "  (dropout): Dropout(p=0.1, inplace=False)\n",
            "  (final_layer): Linear(in_features=512, out_features=6, bias=True)\n",
            ")\n",
            "Epoch 1/30\n",
            "26/26 - train_loss: 1.6977 - train_accuracy: 29.8563%                 - val_loss: 0.8250 - val_accuracy: 32.3232%\n",
            "Epoch 2/30\n",
            "26/26 - train_loss: 0.8050 - train_accuracy: 68.8320%                 - val_loss: 0.0681 - val_accuracy: 89.8990%\n",
            "Epoch 3/30\n",
            "26/26 - train_loss: 0.2336 - train_accuracy: 91.5678%                 - val_loss: 0.2165 - val_accuracy: 92.4242%\n",
            "Epoch 4/30\n",
            "26/26 - train_loss: 0.1496 - train_accuracy: 93.7539%                 - val_loss: 0.0307 - val_accuracy: 94.9495%\n",
            "Epoch 5/30\n",
            "26/26 - train_loss: 0.0983 - train_accuracy: 96.3773%                 - val_loss: 0.0040 - val_accuracy: 93.4343%\n",
            "Epoch 6/30\n",
            "26/26 - train_loss: 0.0652 - train_accuracy: 97.1893%                 - val_loss: 0.0007 - val_accuracy: 95.4545%\n",
            "Epoch 7/30\n",
            "26/26 - train_loss: 0.0789 - train_accuracy: 96.5646%                 - val_loss: 0.0006 - val_accuracy: 93.9394%\n",
            "Epoch 8/30\n",
            "26/26 - train_loss: 0.0602 - train_accuracy: 97.1893%                 - val_loss: 0.0002 - val_accuracy: 94.9495%\n",
            "Epoch 9/30\n",
            "26/26 - train_loss: 0.0234 - train_accuracy: 99.1255%                 - val_loss: 0.0001 - val_accuracy: 95.9596%\n",
            "Epoch 10/30\n",
            "26/26 - train_loss: 0.0123 - train_accuracy: 99.4379%                 - val_loss: 0.0001 - val_accuracy: 96.9697%\n",
            "Epoch 11/30\n",
            "26/26 - train_loss: 0.0212 - train_accuracy: 99.0631%                 - val_loss: 0.0001 - val_accuracy: 95.9596%\n",
            "Epoch 12/30\n",
            "26/26 - train_loss: 0.0191 - train_accuracy: 99.3129%                 - val_loss: 0.0001 - val_accuracy: 95.9596%\n",
            "Epoch 13/30\n",
            "26/26 - train_loss: 0.0115 - train_accuracy: 99.5628%                 - val_loss: 0.0001 - val_accuracy: 96.4646%\n",
            "Epoch 14/30\n",
            "26/26 - train_loss: 0.0150 - train_accuracy: 99.5003%                 - val_loss: 0.0003 - val_accuracy: 97.4747%\n",
            "Epoch 15/30\n",
            "26/26 - train_loss: 0.0076 - train_accuracy: 99.8126%                 - val_loss: 0.0001 - val_accuracy: 96.4646%\n",
            "Epoch 16/30\n",
            "26/26 - train_loss: 0.0043 - train_accuracy: 99.8126%                 - val_loss: 0.0000 - val_accuracy: 95.9596%\n",
            "Epoch 17/30\n",
            "26/26 - train_loss: 0.0095 - train_accuracy: 99.6877%                 - val_loss: 0.0003 - val_accuracy: 96.9697%\n",
            "Epoch 18/30\n",
            "26/26 - train_loss: 0.0229 - train_accuracy: 99.2505%                 - val_loss: 0.0000 - val_accuracy: 96.4646%\n",
            "Epoch 19/30\n",
            "26/26 - train_loss: 0.0015 - train_accuracy: 100.0000%                 - val_loss: 0.0001 - val_accuracy: 96.4646%\n",
            "Epoch 20/30\n",
            "26/26 - train_loss: 0.0108 - train_accuracy: 99.6252%                 - val_loss: 0.0000 - val_accuracy: 96.4646%\n",
            "Epoch 21/30\n",
            "26/26 - train_loss: 0.0124 - train_accuracy: 99.6252%                 - val_loss: 0.0000 - val_accuracy: 96.4646%\n",
            "Epoch 22/30\n",
            "26/26 - train_loss: 0.0184 - train_accuracy: 99.3754%                 - val_loss: 0.0000 - val_accuracy: 96.4646%\n",
            "Epoch 23/30\n",
            "26/26 - train_loss: 0.0119 - train_accuracy: 99.6252%                 - val_loss: 0.0001 - val_accuracy: 96.4646%\n",
            "Epoch 24/30\n",
            "26/26 - train_loss: 0.0010 - train_accuracy: 100.0000%                 - val_loss: 0.0000 - val_accuracy: 96.9697%\n",
            "Epoch 25/30\n",
            "26/26 - train_loss: 0.0070 - train_accuracy: 99.8126%                 - val_loss: 0.0000 - val_accuracy: 96.4646%\n",
            "Epoch 26/30\n",
            "26/26 - train_loss: 0.0058 - train_accuracy: 99.7502%                 - val_loss: 0.0000 - val_accuracy: 96.4646%\n",
            "Epoch 27/30\n",
            "26/26 - train_loss: 0.0039 - train_accuracy: 99.8751%                 - val_loss: 0.0000 - val_accuracy: 96.9697%\n",
            "Epoch 28/30\n",
            "26/26 - train_loss: 0.0025 - train_accuracy: 99.8126%                 - val_loss: 0.0000 - val_accuracy: 96.9697%\n",
            "Epoch 29/30\n",
            "26/26 - train_loss: 0.0042 - train_accuracy: 99.8126%                 - val_loss: 0.0002 - val_accuracy: 95.9596%\n",
            "Epoch 30/30\n",
            "26/26 - train_loss: 0.0225 - train_accuracy: 99.6877%                 - val_loss: 0.0005 - val_accuracy: 96.4646%\n"
          ]
        }
      ]
    },
    {
      "cell_type": "code",
      "source": [
        "# Evaluate the best model\n",
        "# Use the test loader from the DataManager\n",
        "test_loss, test_accuracy = trainer.evaluate(dm.test_loader)\n",
        "print(f\"Test Loss: {test_loss:.4f}, Test Accuracy: {test_accuracy:.4f}\")"
      ],
      "metadata": {
        "colab": {
          "base_uri": "https://localhost:8080/"
        },
        "id": "DqSYM7-XLawK",
        "outputId": "dfbf1238-886d-4692-d3a9-f249ea739b3e"
      },
      "execution_count": 32,
      "outputs": [
        {
          "output_type": "stream",
          "name": "stdout",
          "text": [
            "Test Loss: 0.2452, Test Accuracy: 0.9502\n"
          ]
        }
      ]
    },
    {
      "cell_type": "code",
      "source": [
        "import torch\n",
        "\n",
        "# Define the file name for your best model\n",
        "MODEL_SAVE_PATH = 'best_transformer_model.pth'\n",
        "\n",
        "torch.save(transformer.state_dict(), MODEL_SAVE_PATH)\n",
        "\n",
        "print(f\"✅ Model 'transformer' successfully saved as '{MODEL_SAVE_PATH}'.\")\n"
      ],
      "metadata": {
        "colab": {
          "base_uri": "https://localhost:8080/"
        },
        "id": "1bORfdNSuDca",
        "outputId": "d66d428b-dfa3-4d13-e08e-43384ce226aa"
      },
      "execution_count": 33,
      "outputs": [
        {
          "output_type": "stream",
          "name": "stdout",
          "text": [
            "✅ Model 'transformer' successfully saved as 'best_transformer_model.pth'.\n"
          ]
        }
      ]
    },
    {
      "cell_type": "markdown",
      "source": [
        "#### <font color=\"red\">**Question 4.2**</font>\n",
        "**Prefix prompt-tuning with Transformers: You need to implement the prefix prompt-tuning with Transformers. Basically, we base on a pre-trained Transformer, add prefix prompts, and do fine-tuning for a target dataset.**\n",
        "\n",
        "<div style=\"text-align: right\"><font color=\"red; font-weight:bold\">[Total marks for this part: 10 marks]<span></div>"
      ],
      "metadata": {
        "id": "aMbhi0_d0NL-"
      }
    },
    {
      "cell_type": "markdown",
      "source": [
        "To implement prefix prompt-tuning with pretrained Transformers, we first need to create the Bert dataset."
      ],
      "metadata": {
        "id": "UyecWD190TP1"
      }
    },
    {
      "cell_type": "code",
      "source": [
        "!pip install --upgrade datasets transformers"
      ],
      "metadata": {
        "colab": {
          "base_uri": "https://localhost:8080/"
        },
        "id": "dDP2fpOmOWE9",
        "outputId": "f5429cbf-33cd-4fd6-abab-da137e9c9004"
      },
      "execution_count": 35,
      "outputs": [
        {
          "output_type": "stream",
          "name": "stdout",
          "text": [
            "Requirement already satisfied: datasets in /usr/local/lib/python3.12/dist-packages (4.3.0)\n",
            "Requirement already satisfied: transformers in /usr/local/lib/python3.12/dist-packages (4.57.1)\n",
            "Requirement already satisfied: filelock in /usr/local/lib/python3.12/dist-packages (from datasets) (3.20.0)\n",
            "Requirement already satisfied: numpy>=1.17 in /usr/local/lib/python3.12/dist-packages (from datasets) (2.0.2)\n",
            "Requirement already satisfied: pyarrow>=21.0.0 in /usr/local/lib/python3.12/dist-packages (from datasets) (22.0.0)\n",
            "Requirement already satisfied: dill<0.4.1,>=0.3.0 in /usr/local/lib/python3.12/dist-packages (from datasets) (0.3.8)\n",
            "Requirement already satisfied: pandas in /usr/local/lib/python3.12/dist-packages (from datasets) (2.2.2)\n",
            "Requirement already satisfied: requests>=2.32.2 in /usr/local/lib/python3.12/dist-packages (from datasets) (2.32.4)\n",
            "Requirement already satisfied: httpx<1.0.0 in /usr/local/lib/python3.12/dist-packages (from datasets) (0.28.1)\n",
            "Requirement already satisfied: tqdm>=4.66.3 in /usr/local/lib/python3.12/dist-packages (from datasets) (4.67.1)\n",
            "Requirement already satisfied: xxhash in /usr/local/lib/python3.12/dist-packages (from datasets) (3.6.0)\n",
            "Requirement already satisfied: multiprocess<0.70.17 in /usr/local/lib/python3.12/dist-packages (from datasets) (0.70.16)\n",
            "Requirement already satisfied: fsspec<=2025.9.0,>=2023.1.0 in /usr/local/lib/python3.12/dist-packages (from fsspec[http]<=2025.9.0,>=2023.1.0->datasets) (2025.3.0)\n",
            "Requirement already satisfied: huggingface-hub<2.0,>=0.25.0 in /usr/local/lib/python3.12/dist-packages (from datasets) (0.36.0)\n",
            "Requirement already satisfied: packaging in /usr/local/lib/python3.12/dist-packages (from datasets) (25.0)\n",
            "Requirement already satisfied: pyyaml>=5.1 in /usr/local/lib/python3.12/dist-packages (from datasets) (6.0.3)\n",
            "Requirement already satisfied: regex!=2019.12.17 in /usr/local/lib/python3.12/dist-packages (from transformers) (2024.11.6)\n",
            "Requirement already satisfied: tokenizers<=0.23.0,>=0.22.0 in /usr/local/lib/python3.12/dist-packages (from transformers) (0.22.1)\n",
            "Requirement already satisfied: safetensors>=0.4.3 in /usr/local/lib/python3.12/dist-packages (from transformers) (0.6.2)\n",
            "Requirement already satisfied: aiohttp!=4.0.0a0,!=4.0.0a1 in /usr/local/lib/python3.12/dist-packages (from fsspec[http]<=2025.9.0,>=2023.1.0->datasets) (3.13.1)\n",
            "Requirement already satisfied: anyio in /usr/local/lib/python3.12/dist-packages (from httpx<1.0.0->datasets) (4.11.0)\n",
            "Requirement already satisfied: certifi in /usr/local/lib/python3.12/dist-packages (from httpx<1.0.0->datasets) (2025.10.5)\n",
            "Requirement already satisfied: httpcore==1.* in /usr/local/lib/python3.12/dist-packages (from httpx<1.0.0->datasets) (1.0.9)\n",
            "Requirement already satisfied: idna in /usr/local/lib/python3.12/dist-packages (from httpx<1.0.0->datasets) (3.11)\n",
            "Requirement already satisfied: h11>=0.16 in /usr/local/lib/python3.12/dist-packages (from httpcore==1.*->httpx<1.0.0->datasets) (0.16.0)\n",
            "Requirement already satisfied: typing-extensions>=3.7.4.3 in /usr/local/lib/python3.12/dist-packages (from huggingface-hub<2.0,>=0.25.0->datasets) (4.15.0)\n",
            "Requirement already satisfied: hf-xet<2.0.0,>=1.1.3 in /usr/local/lib/python3.12/dist-packages (from huggingface-hub<2.0,>=0.25.0->datasets) (1.2.0)\n",
            "Requirement already satisfied: charset_normalizer<4,>=2 in /usr/local/lib/python3.12/dist-packages (from requests>=2.32.2->datasets) (3.4.4)\n",
            "Requirement already satisfied: urllib3<3,>=1.21.1 in /usr/local/lib/python3.12/dist-packages (from requests>=2.32.2->datasets) (2.5.0)\n",
            "Requirement already satisfied: python-dateutil>=2.8.2 in /usr/local/lib/python3.12/dist-packages (from pandas->datasets) (2.9.0.post0)\n",
            "Requirement already satisfied: pytz>=2020.1 in /usr/local/lib/python3.12/dist-packages (from pandas->datasets) (2025.2)\n",
            "Requirement already satisfied: tzdata>=2022.7 in /usr/local/lib/python3.12/dist-packages (from pandas->datasets) (2025.2)\n",
            "Requirement already satisfied: aiohappyeyeballs>=2.5.0 in /usr/local/lib/python3.12/dist-packages (from aiohttp!=4.0.0a0,!=4.0.0a1->fsspec[http]<=2025.9.0,>=2023.1.0->datasets) (2.6.1)\n",
            "Requirement already satisfied: aiosignal>=1.4.0 in /usr/local/lib/python3.12/dist-packages (from aiohttp!=4.0.0a0,!=4.0.0a1->fsspec[http]<=2025.9.0,>=2023.1.0->datasets) (1.4.0)\n",
            "Requirement already satisfied: attrs>=17.3.0 in /usr/local/lib/python3.12/dist-packages (from aiohttp!=4.0.0a0,!=4.0.0a1->fsspec[http]<=2025.9.0,>=2023.1.0->datasets) (25.4.0)\n",
            "Requirement already satisfied: frozenlist>=1.1.1 in /usr/local/lib/python3.12/dist-packages (from aiohttp!=4.0.0a0,!=4.0.0a1->fsspec[http]<=2025.9.0,>=2023.1.0->datasets) (1.8.0)\n",
            "Requirement already satisfied: multidict<7.0,>=4.5 in /usr/local/lib/python3.12/dist-packages (from aiohttp!=4.0.0a0,!=4.0.0a1->fsspec[http]<=2025.9.0,>=2023.1.0->datasets) (6.7.0)\n",
            "Requirement already satisfied: propcache>=0.2.0 in /usr/local/lib/python3.12/dist-packages (from aiohttp!=4.0.0a0,!=4.0.0a1->fsspec[http]<=2025.9.0,>=2023.1.0->datasets) (0.4.1)\n",
            "Requirement already satisfied: yarl<2.0,>=1.17.0 in /usr/local/lib/python3.12/dist-packages (from aiohttp!=4.0.0a0,!=4.0.0a1->fsspec[http]<=2025.9.0,>=2023.1.0->datasets) (1.22.0)\n",
            "Requirement already satisfied: six>=1.5 in /usr/local/lib/python3.12/dist-packages (from python-dateutil>=2.8.2->pandas->datasets) (1.17.0)\n",
            "Requirement already satisfied: sniffio>=1.1 in /usr/local/lib/python3.12/dist-packages (from anyio->httpx<1.0.0->datasets) (1.3.1)\n"
          ]
        }
      ]
    },
    {
      "cell_type": "code",
      "source": [
        "from transformers import AutoModel, AutoTokenizer\n",
        "from datasets import Dataset\n",
        "\n",
        "model_name = \"bert-base-uncased\"  # BERT or any similar model\n",
        "\n",
        "# Tokenize input and prepare model inputs\n",
        "tokenizer = AutoTokenizer.from_pretrained(model_name)\n",
        "\n",
        "dataset = Dataset.from_dict({\"text\": dm.str_questions, \"label\": dm.numeral_labels})\n",
        "\n",
        "# Tokenize the dataset\n",
        "def tokenize_function(examples):\n",
        "    return tokenizer(examples[\"text\"], padding=\"max_length\", truncation=True, max_length= 36)\n",
        "\n",
        "dataset = dataset.map(tokenize_function, batched=True)\n",
        "dataset.set_format(type=\"torch\", columns=[\"input_ids\", \"attention_mask\", \"label\"])\n",
        "print(dataset)"
      ],
      "metadata": {
        "colab": {
          "base_uri": "https://localhost:8080/",
          "height": 122,
          "referenced_widgets": [
            "87793212f0bf43c3887aec82b523172d",
            "70789fbafa9f4095bc9a633efea604c2",
            "f0714bb766804edb843d47fc125999b6",
            "7cc17da459cc4e57af95b35d24707f08",
            "12c7500712e1496db1ecb7f21e8c581c",
            "284f0a176631491fa43bb7383dedb042",
            "640882b699804f468a1daf5199e3da7b",
            "997162093d274dfc8c1751a638a9e070",
            "53d9ea874c994574b572c203c6ade781",
            "af7919af35bd4738950daa8c67f9e3c2",
            "335360de9af845bbbe40edf44574b044"
          ]
        },
        "id": "mq3PiV2UrueO",
        "outputId": "92b68d9f-7ab1-46cd-e334-56f21015b4dd"
      },
      "execution_count": 36,
      "outputs": [
        {
          "output_type": "display_data",
          "data": {
            "text/plain": [
              "Map:   0%|          | 0/2000 [00:00<?, ? examples/s]"
            ],
            "application/vnd.jupyter.widget-view+json": {
              "version_major": 2,
              "version_minor": 0,
              "model_id": "87793212f0bf43c3887aec82b523172d"
            }
          },
          "metadata": {}
        },
        {
          "output_type": "stream",
          "name": "stdout",
          "text": [
            "Dataset({\n",
            "    features: ['text', 'label', 'input_ids', 'token_type_ids', 'attention_mask'],\n",
            "    num_rows: 2000\n",
            "})\n"
          ]
        }
      ]
    },
    {
      "cell_type": "markdown",
      "source": [
        "The following function splits the BERT dataset `dataset` into three BERT datasets for training, valid, and testing."
      ],
      "metadata": {
        "id": "ASKOrO5n1ckY"
      }
    },
    {
      "cell_type": "code",
      "source": [
        "def train_valid_test_split(dataset, train_ratio=0.8, test_ratio = 0.1):\n",
        "    num_sentences = len(dataset)\n",
        "    train_size = int(num_sentences*train_ratio) +1\n",
        "    test_size = int(num_sentences*test_ratio) +1\n",
        "    valid_size = num_sentences - (train_size + test_size)\n",
        "    train_set = dataset[:train_size]\n",
        "    train_set = Dataset.from_dict(train_set)\n",
        "    train_set.set_format(type=\"torch\", columns=[\"input_ids\", \"attention_mask\", \"label\"])\n",
        "    test_set = dataset[-test_size:]\n",
        "    test_set = Dataset.from_dict(test_set)\n",
        "    test_set.set_format(type=\"torch\", columns=[\"input_ids\", \"attention_mask\", \"label\"])\n",
        "    valid_set = dataset[train_size:-test_size]\n",
        "    valid_set = Dataset.from_dict(valid_set)\n",
        "    valid_set.set_format(type=\"torch\", columns=[\"input_ids\", \"attention_mask\", \"label\"])\n",
        "    train_loader = DataLoader(train_set, batch_size=64, shuffle=True)\n",
        "    test_loader = DataLoader(test_set, batch_size=64, shuffle=False)\n",
        "    valid_loader = DataLoader(valid_set, batch_size=64, shuffle=False)\n",
        "    return train_loader, test_loader, valid_loader\n"
      ],
      "metadata": {
        "id": "UDgfnCV70gzG"
      },
      "execution_count": 37,
      "outputs": []
    },
    {
      "cell_type": "code",
      "source": [
        "train_loader, test_loader, valid_loader = train_valid_test_split(dataset)"
      ],
      "metadata": {
        "id": "s_sEtXml1lT7"
      },
      "execution_count": 38,
      "outputs": []
    },
    {
      "cell_type": "markdown",
      "source": [
        "You need to implement the class `PrefixTuningForClassification` for the prefix prompt fine-tuning. We first load a pre-trained BERT model specified by `model_name`. The parameter `prefix_length` specifies the length of the prefix prompts we add to the pre-trained BERT model. Specifically, given the input batch `[batch_size, seq_len]`, we input to the embedding layer of the pre-trained BERT model to obtain `[batch_size, seq_len, embed_size]`. We create the prefix prompts $P$ of the size `[prefix_length, embed_size]` and concatenate to the embeddings from the pre-trained BERT to obtain `[batch_size, seq_len + prefix_length, embed_size]`. This concatenation tensor will then be fed to the encoder layers of the pre-trained BERT layer to obtain the last `[batch_size, seq_len + prefix_length, embed_size]`."
      ],
      "metadata": {
        "id": "S3jHATGX2hn4"
      }
    },
    {
      "cell_type": "markdown",
      "source": [
        "We then take mean across the seq_len to obtain `[batch_size, embed_size]` on which we can build up a linear layer for making predictions. Please note that **the parameters to tune include the prefix prompts $P$** and **the output linear layer**, and you should freeze the parameters of the BERT pre-trained model. Moreover, your code should cover the edge case when `prefix_length=None`. In this case, we do not insert any prefix prompts and we only do fine-tuning for the output linear layer on top.  "
      ],
      "metadata": {
        "id": "NXFogDf1jVD0"
      }
    },
    {
      "cell_type": "code",
      "source": [
        "import torch.nn as nn\n",
        "from transformers import AutoModel, AutoTokenizer\n",
        "from datasets import Dataset\n",
        "\n",
        "class PrefixTuningForClassification(nn.Module):\n",
        "    def __init__(self, model_name, prefix_length=None, data_manager=None):\n",
        "        super().__init__()\n",
        "        # load pretrained transformer backbone (BERT-like) and move to device\n",
        "        self.model = AutoModel.from_pretrained(model_name).to(device)\n",
        "        self.hidden_size = self.model.config.hidden_size\n",
        "        self.prefix_length = prefix_length\n",
        "        self.num_classes = data_manager.num_classes\n",
        "\n",
        "        # freeze backbone parameters (we only fine-tune prefix + classifier)\n",
        "        for param in self.model.parameters():\n",
        "            param.requires_grad = False\n",
        "\n",
        "        # optional learnable prefix embeddings (prefix-tuning)\n",
        "        if self.prefix_length is not None:\n",
        "            # shape: (prefix_length, hidden_size)\n",
        "            self.prefix_embeddings = nn.Parameter(torch.randn(self.prefix_length, self.hidden_size))\n",
        "            nn.init.xavier_uniform_(self.prefix_embeddings)\n",
        "\n",
        "        # classification head mapping pooled hidden -> class logits\n",
        "        self.classifier = nn.Linear(self.hidden_size, self.num_classes)\n",
        "\n",
        "        self.device = device\n",
        "        self.to(self.device)\n",
        "\n",
        "\n",
        "    def forward(self, input_ids, attention_mask):\n",
        "        \"\"\"\n",
        "        input_ids: (B, T) token ids\n",
        "        attention_mask: (B, T) attention mask for the tokens\n",
        "        \"\"\"\n",
        "        batch_size, _ = input_ids.shape\n",
        "\n",
        "        if self.prefix_length is not None:\n",
        "            # expand prefix to batch and concatenate with token embeddings\n",
        "            prefix = self.prefix_embeddings.unsqueeze(0).expand(batch_size, -1, -1).to(self.device)\n",
        "            # get token embeddings from the backbone embedding layer\n",
        "            token_embeds = self.model.embeddings.word_embeddings(input_ids)\n",
        "            # combined embeddings: [prefix_tokens, original_tokens]\n",
        "            combined_embeddings = torch.cat([prefix, token_embeds], dim=1)\n",
        "\n",
        "            # extend attention mask to cover prefix tokens (1 = attendable)\n",
        "            prefix_mask = torch.ones(batch_size, self.prefix_length, device=self.device)\n",
        "            combined_attention_mask = torch.cat([prefix_mask, attention_mask], dim=1)\n",
        "\n",
        "            # run the model using inputs_embeds + combined mask\n",
        "            outputs = self.model(inputs_embeds=combined_embeddings,\n",
        "                                 attention_mask=combined_attention_mask)\n",
        "        else:\n",
        "            # standard forward using input ids and mask\n",
        "            outputs = self.model(input_ids=input_ids, attention_mask=attention_mask)\n",
        "\n",
        "        # pool the last hidden states by mean across time -> (B, H)\n",
        "        pooled_output = outputs.last_hidden_state.mean(dim=1)\n",
        "\n",
        "        # classifier -> logits (CrossEntropyLoss expects raw logits)\n",
        "        logits = self.classifier(pooled_output)\n",
        "        return logits"
      ],
      "metadata": {
        "id": "bZtGBqQV16Kj"
      },
      "execution_count": 39,
      "outputs": []
    },
    {
      "cell_type": "markdown",
      "source": [
        "You can use the following `FineTunedBaseTrainer` to train the prompt fine-tuning models."
      ],
      "metadata": {
        "id": "RtYVNYXi24Os"
      }
    },
    {
      "cell_type": "code",
      "source": [
        "class FineTunedBaseTrainer:\n",
        "    def __init__(self, model, criterion, optimizer, train_loader, val_loader):\n",
        "        self.model = model\n",
        "        self.criterion = criterion  #the loss function\n",
        "        self.optimizer = optimizer  #the optimizer\n",
        "        self.train_loader = train_loader  #the train loader\n",
        "        self.val_loader = val_loader  #the valid loader\n",
        "\n",
        "    #the function to train the model in many epochs\n",
        "    def fit(self, num_epochs):\n",
        "        self.num_batches = len(self.train_loader)\n",
        "\n",
        "        for epoch in range(num_epochs):\n",
        "            print(f'Epoch {epoch + 1}/{num_epochs}')\n",
        "            train_loss, train_accuracy = self.train_one_epoch()\n",
        "            val_loss, val_accuracy = self.validate_one_epoch()\n",
        "            print(\n",
        "                f'{self.num_batches}/{self.num_batches} - train_loss: {train_loss:.4f} - train_accuracy: {train_accuracy*100:.4f}% \\\n",
        "                - val_loss: {val_loss:.4f} - val_accuracy: {val_accuracy*100:.4f}%')\n",
        "\n",
        "    #train in one epoch, return the train_acc, train_loss\n",
        "    def train_one_epoch(self):\n",
        "        self.model.train()\n",
        "        running_loss, correct, total = 0.0, 0, 0\n",
        "        for batch in self.train_loader:\n",
        "            input_ids = batch[\"input_ids\"].to(device)\n",
        "            attention_mask = batch[\"attention_mask\"].to(device)\n",
        "            labels = batch[\"label\"].to(device)\n",
        "            self.optimizer.zero_grad()\n",
        "            outputs = self.model(input_ids= input_ids, attention_mask= attention_mask)\n",
        "            loss = self.criterion(outputs, labels)\n",
        "            loss.backward()\n",
        "            self.optimizer.step()\n",
        "\n",
        "            running_loss += loss.item()\n",
        "            _, predicted = torch.max(outputs.data, 1)\n",
        "            total += labels.size(0)\n",
        "            correct += (predicted == labels).sum().item()\n",
        "        train_accuracy = correct / total\n",
        "        train_loss = running_loss / self.num_batches\n",
        "        return train_loss, train_accuracy\n",
        "\n",
        "    #evaluate on a loader and return the loss and accuracy\n",
        "    def evaluate(self, loader):\n",
        "        self.model.eval()\n",
        "        loss, correct, total = 0.0, 0, 0\n",
        "        with torch.no_grad():\n",
        "            for batch in loader:\n",
        "                input_ids = batch[\"input_ids\"].to(device)\n",
        "                labels = batch[\"label\"].to(device)\n",
        "                attention_mask = batch[\"attention_mask\"].to(device)\n",
        "                outputs = self.model(input_ids= input_ids, attention_mask= attention_mask)\n",
        "                loss = self.criterion(outputs, labels)\n",
        "                loss += loss.item()\n",
        "                _, predicted = torch.max(outputs.data, 1)\n",
        "                total += labels.size(0)\n",
        "                correct += (predicted == labels).sum().item()\n",
        "\n",
        "        accuracy = correct / total\n",
        "        loss = loss / len(self.val_loader)\n",
        "        return loss, accuracy\n",
        "\n",
        "    #return the val_acc, val_loss, be called at the end of each epoch\n",
        "    def validate_one_epoch(self):\n",
        "      val_loss, val_accuracy = self.evaluate(self.val_loader)\n",
        "      return val_loss, val_accuracy"
      ],
      "metadata": {
        "id": "NmRkMqYB24tv"
      },
      "execution_count": 40,
      "outputs": []
    },
    {
      "cell_type": "markdown",
      "source": [
        "We declare and train the prefix-prompt tuning model. In addition, you need to be patient with this model because it might converge slowly with many epochs."
      ],
      "metadata": {
        "id": "4KQhBHPe20zo"
      }
    },
    {
      "cell_type": "code",
      "source": [
        "import torch\n",
        "# Automatically select the available device (MPS for Apple, CUDA for GPU, or CPU)\n",
        "device = torch.device(\n",
        "    \"mps\" if torch.backends.mps.is_available() else\n",
        "    \"cuda\" if torch.cuda.is_available() else\n",
        "    \"cpu\")"
      ],
      "metadata": {
        "id": "j4wESwwsfger"
      },
      "execution_count": 41,
      "outputs": []
    },
    {
      "cell_type": "code",
      "source": [
        "prefix_tuning_model = PrefixTuningForClassification(model_name = \"bert-base-uncased\", prefix_length = 5, data_manager = dm).to(device)"
      ],
      "metadata": {
        "id": "qLowEOeg3HWW"
      },
      "execution_count": 42,
      "outputs": []
    },
    {
      "cell_type": "code",
      "source": [
        "if prefix_tuning_model.prefix_length is not None:\n",
        "  optimizer = torch.optim.Adam(list(prefix_tuning_model.classifier.parameters()) + [prefix_tuning_model.prefix_embeddings], lr=5e-5)\n",
        "else:\n",
        "  optimizer = torch.optim.Adam(prefix_tuning_model.classifier.parameters(), lr=1e-4)\n",
        "criterion = nn.CrossEntropyLoss()\n",
        "trainer = FineTunedBaseTrainer(model= prefix_tuning_model, criterion=criterion, optimizer=optimizer, train_loader=train_loader, val_loader=valid_loader)\n",
        "trainer.fit(num_epochs=100)"
      ],
      "metadata": {
        "id": "UYMDOjWW3UVk",
        "colab": {
          "base_uri": "https://localhost:8080/"
        },
        "outputId": "6db18ddb-2f36-4319-9592-4f9aa6fb6c8c"
      },
      "execution_count": 43,
      "outputs": [
        {
          "output_type": "stream",
          "name": "stdout",
          "text": [
            "Epoch 1/100\n",
            "26/26 - train_loss: 1.7779 - train_accuracy: 18.6758%                 - val_loss: 0.8483 - val_accuracy: 22.7273%\n",
            "Epoch 2/100\n",
            "26/26 - train_loss: 1.7416 - train_accuracy: 25.9838%                 - val_loss: 0.8281 - val_accuracy: 27.2727%\n",
            "Epoch 3/100\n",
            "26/26 - train_loss: 1.6979 - train_accuracy: 28.7945%                 - val_loss: 0.8088 - val_accuracy: 35.3535%\n",
            "Epoch 4/100\n",
            "26/26 - train_loss: 1.6691 - train_accuracy: 32.2299%                 - val_loss: 0.7881 - val_accuracy: 38.8889%\n",
            "Epoch 5/100\n",
            "26/26 - train_loss: 1.6408 - train_accuracy: 33.8538%                 - val_loss: 0.7713 - val_accuracy: 41.4141%\n",
            "Epoch 6/100\n",
            "26/26 - train_loss: 1.6171 - train_accuracy: 37.2892%                 - val_loss: 0.7629 - val_accuracy: 44.9495%\n",
            "Epoch 7/100\n",
            "26/26 - train_loss: 1.5975 - train_accuracy: 41.9113%                 - val_loss: 0.7554 - val_accuracy: 47.4747%\n",
            "Epoch 8/100\n",
            "26/26 - train_loss: 1.5891 - train_accuracy: 45.4716%                 - val_loss: 0.7429 - val_accuracy: 52.5253%\n",
            "Epoch 9/100\n",
            "26/26 - train_loss: 1.5448 - train_accuracy: 49.9063%                 - val_loss: 0.7266 - val_accuracy: 56.0606%\n",
            "Epoch 10/100\n",
            "26/26 - train_loss: 1.5366 - train_accuracy: 51.1555%                 - val_loss: 0.7089 - val_accuracy: 57.0707%\n",
            "Epoch 11/100\n",
            "26/26 - train_loss: 1.5049 - train_accuracy: 56.0275%                 - val_loss: 0.6950 - val_accuracy: 64.6465%\n",
            "Epoch 12/100\n",
            "26/26 - train_loss: 1.4854 - train_accuracy: 57.0269%                 - val_loss: 0.6858 - val_accuracy: 63.1313%\n",
            "Epoch 13/100\n",
            "26/26 - train_loss: 1.4755 - train_accuracy: 56.0275%                 - val_loss: 0.6741 - val_accuracy: 63.1313%\n",
            "Epoch 14/100\n",
            "26/26 - train_loss: 1.4390 - train_accuracy: 61.7114%                 - val_loss: 0.6590 - val_accuracy: 70.7071%\n",
            "Epoch 15/100\n",
            "26/26 - train_loss: 1.4131 - train_accuracy: 65.3966%                 - val_loss: 0.6474 - val_accuracy: 72.2222%\n",
            "Epoch 16/100\n",
            "26/26 - train_loss: 1.4050 - train_accuracy: 67.1455%                 - val_loss: 0.6300 - val_accuracy: 73.2323%\n",
            "Epoch 17/100\n",
            "26/26 - train_loss: 1.3796 - train_accuracy: 68.2698%                 - val_loss: 0.6141 - val_accuracy: 75.2525%\n",
            "Epoch 18/100\n",
            "26/26 - train_loss: 1.3512 - train_accuracy: 72.8919%                 - val_loss: 0.5944 - val_accuracy: 78.2828%\n",
            "Epoch 19/100\n",
            "26/26 - train_loss: 1.3411 - train_accuracy: 72.1424%                 - val_loss: 0.5804 - val_accuracy: 78.2828%\n",
            "Epoch 20/100\n",
            "26/26 - train_loss: 1.3216 - train_accuracy: 73.6415%                 - val_loss: 0.5664 - val_accuracy: 77.7778%\n",
            "Epoch 21/100\n",
            "26/26 - train_loss: 1.2747 - train_accuracy: 75.0156%                 - val_loss: 0.5485 - val_accuracy: 78.2828%\n",
            "Epoch 22/100\n",
            "26/26 - train_loss: 1.2588 - train_accuracy: 76.3273%                 - val_loss: 0.5316 - val_accuracy: 78.7879%\n",
            "Epoch 23/100\n",
            "26/26 - train_loss: 1.2363 - train_accuracy: 75.9525%                 - val_loss: 0.5050 - val_accuracy: 79.7980%\n",
            "Epoch 24/100\n",
            "26/26 - train_loss: 1.2094 - train_accuracy: 77.2017%                 - val_loss: 0.4820 - val_accuracy: 81.3131%\n",
            "Epoch 25/100\n",
            "26/26 - train_loss: 1.1912 - train_accuracy: 77.2017%                 - val_loss: 0.4620 - val_accuracy: 82.8283%\n",
            "Epoch 26/100\n",
            "26/26 - train_loss: 1.1795 - train_accuracy: 78.7008%                 - val_loss: 0.4503 - val_accuracy: 83.3333%\n",
            "Epoch 27/100\n",
            "26/26 - train_loss: 1.1377 - train_accuracy: 78.7008%                 - val_loss: 0.4310 - val_accuracy: 81.8182%\n",
            "Epoch 28/100\n",
            "26/26 - train_loss: 1.1032 - train_accuracy: 78.8257%                 - val_loss: 0.4122 - val_accuracy: 83.8384%\n",
            "Epoch 29/100\n",
            "26/26 - train_loss: 1.0898 - train_accuracy: 79.2630%                 - val_loss: 0.3935 - val_accuracy: 83.3333%\n",
            "Epoch 30/100\n",
            "26/26 - train_loss: 1.0661 - train_accuracy: 80.6371%                 - val_loss: 0.3757 - val_accuracy: 83.8384%\n",
            "Epoch 31/100\n",
            "26/26 - train_loss: 1.0763 - train_accuracy: 79.7626%                 - val_loss: 0.3603 - val_accuracy: 83.8384%\n",
            "Epoch 32/100\n",
            "26/26 - train_loss: 1.0409 - train_accuracy: 79.8876%                 - val_loss: 0.3456 - val_accuracy: 83.3333%\n",
            "Epoch 33/100\n",
            "26/26 - train_loss: 1.0018 - train_accuracy: 80.5746%                 - val_loss: 0.3313 - val_accuracy: 82.8283%\n",
            "Epoch 34/100\n",
            "26/26 - train_loss: 1.0044 - train_accuracy: 81.1993%                 - val_loss: 0.3141 - val_accuracy: 83.3333%\n",
            "Epoch 35/100\n",
            "26/26 - train_loss: 0.9786 - train_accuracy: 80.1374%                 - val_loss: 0.3047 - val_accuracy: 84.8485%\n",
            "Epoch 36/100\n",
            "26/26 - train_loss: 0.9616 - train_accuracy: 79.2630%                 - val_loss: 0.2962 - val_accuracy: 83.8384%\n",
            "Epoch 37/100\n",
            "26/26 - train_loss: 0.9562 - train_accuracy: 80.9494%                 - val_loss: 0.2834 - val_accuracy: 83.8384%\n",
            "Epoch 38/100\n",
            "26/26 - train_loss: 0.9329 - train_accuracy: 80.5746%                 - val_loss: 0.2695 - val_accuracy: 83.8384%\n",
            "Epoch 39/100\n",
            "26/26 - train_loss: 0.9029 - train_accuracy: 81.2617%                 - val_loss: 0.2598 - val_accuracy: 84.8485%\n",
            "Epoch 40/100\n",
            "26/26 - train_loss: 0.8756 - train_accuracy: 79.9500%                 - val_loss: 0.2434 - val_accuracy: 84.3434%\n",
            "Epoch 41/100\n",
            "26/26 - train_loss: 0.8732 - train_accuracy: 80.8869%                 - val_loss: 0.2353 - val_accuracy: 84.8485%\n",
            "Epoch 42/100\n",
            "26/26 - train_loss: 0.8494 - train_accuracy: 81.5116%                 - val_loss: 0.2250 - val_accuracy: 84.8485%\n",
            "Epoch 43/100\n",
            "26/26 - train_loss: 0.8245 - train_accuracy: 80.9494%                 - val_loss: 0.2142 - val_accuracy: 85.3535%\n",
            "Epoch 44/100\n",
            "26/26 - train_loss: 0.8057 - train_accuracy: 82.3860%                 - val_loss: 0.2091 - val_accuracy: 84.3434%\n",
            "Epoch 45/100\n",
            "26/26 - train_loss: 0.8059 - train_accuracy: 82.0112%                 - val_loss: 0.1968 - val_accuracy: 85.3535%\n",
            "Epoch 46/100\n",
            "26/26 - train_loss: 0.7827 - train_accuracy: 82.6983%                 - val_loss: 0.1985 - val_accuracy: 85.3535%\n",
            "Epoch 47/100\n",
            "26/26 - train_loss: 0.7817 - train_accuracy: 83.5103%                 - val_loss: 0.1965 - val_accuracy: 85.8586%\n",
            "Epoch 48/100\n",
            "26/26 - train_loss: 0.7648 - train_accuracy: 82.1986%                 - val_loss: 0.1842 - val_accuracy: 85.8586%\n",
            "Epoch 49/100\n",
            "26/26 - train_loss: 0.7517 - train_accuracy: 84.3848%                 - val_loss: 0.1785 - val_accuracy: 84.8485%\n",
            "Epoch 50/100\n",
            "26/26 - train_loss: 0.7530 - train_accuracy: 81.8863%                 - val_loss: 0.1716 - val_accuracy: 85.3535%\n",
            "Epoch 51/100\n",
            "26/26 - train_loss: 0.7002 - train_accuracy: 82.6983%                 - val_loss: 0.1643 - val_accuracy: 85.3535%\n",
            "Epoch 52/100\n",
            "26/26 - train_loss: 0.6964 - train_accuracy: 83.0106%                 - val_loss: 0.1594 - val_accuracy: 86.3636%\n",
            "Epoch 53/100\n",
            "26/26 - train_loss: 0.6803 - train_accuracy: 83.1980%                 - val_loss: 0.1572 - val_accuracy: 86.8687%\n",
            "Epoch 54/100\n",
            "26/26 - train_loss: 0.6727 - train_accuracy: 83.5728%                 - val_loss: 0.1551 - val_accuracy: 86.8687%\n",
            "Epoch 55/100\n",
            "26/26 - train_loss: 0.6875 - train_accuracy: 83.5103%                 - val_loss: 0.1502 - val_accuracy: 86.8687%\n",
            "Epoch 56/100\n",
            "26/26 - train_loss: 0.6745 - train_accuracy: 83.6977%                 - val_loss: 0.1449 - val_accuracy: 87.3737%\n",
            "Epoch 57/100\n",
            "26/26 - train_loss: 0.6769 - train_accuracy: 83.8226%                 - val_loss: 0.1406 - val_accuracy: 86.8687%\n",
            "Epoch 58/100\n",
            "26/26 - train_loss: 0.6333 - train_accuracy: 83.5728%                 - val_loss: 0.1475 - val_accuracy: 87.3737%\n",
            "Epoch 59/100\n",
            "26/26 - train_loss: 0.6241 - train_accuracy: 84.0100%                 - val_loss: 0.1394 - val_accuracy: 86.8687%\n",
            "Epoch 60/100\n",
            "26/26 - train_loss: 0.6304 - train_accuracy: 84.8220%                 - val_loss: 0.1346 - val_accuracy: 86.8687%\n",
            "Epoch 61/100\n",
            "26/26 - train_loss: 0.6007 - train_accuracy: 84.8220%                 - val_loss: 0.1300 - val_accuracy: 87.8788%\n",
            "Epoch 62/100\n",
            "26/26 - train_loss: 0.6111 - train_accuracy: 84.6346%                 - val_loss: 0.1306 - val_accuracy: 87.3737%\n",
            "Epoch 63/100\n",
            "26/26 - train_loss: 0.6185 - train_accuracy: 85.3841%                 - val_loss: 0.1426 - val_accuracy: 87.8788%\n",
            "Epoch 64/100\n",
            "26/26 - train_loss: 0.6082 - train_accuracy: 84.5097%                 - val_loss: 0.1390 - val_accuracy: 86.8687%\n",
            "Epoch 65/100\n",
            "26/26 - train_loss: 0.5759 - train_accuracy: 84.8220%                 - val_loss: 0.1379 - val_accuracy: 87.8788%\n",
            "Epoch 66/100\n",
            "26/26 - train_loss: 0.5876 - train_accuracy: 85.5715%                 - val_loss: 0.1266 - val_accuracy: 86.8687%\n",
            "Epoch 67/100\n",
            "26/26 - train_loss: 0.5933 - train_accuracy: 85.6964%                 - val_loss: 0.1221 - val_accuracy: 89.8990%\n",
            "Epoch 68/100\n",
            "26/26 - train_loss: 0.5577 - train_accuracy: 84.9469%                 - val_loss: 0.1224 - val_accuracy: 89.3939%\n",
            "Epoch 69/100\n",
            "26/26 - train_loss: 0.5448 - train_accuracy: 85.4466%                 - val_loss: 0.1243 - val_accuracy: 89.3939%\n",
            "Epoch 70/100\n",
            "26/26 - train_loss: 0.5962 - train_accuracy: 85.8838%                 - val_loss: 0.1229 - val_accuracy: 88.8889%\n",
            "Epoch 71/100\n",
            "26/26 - train_loss: 0.5654 - train_accuracy: 85.9463%                 - val_loss: 0.1275 - val_accuracy: 87.8788%\n",
            "Epoch 72/100\n",
            "26/26 - train_loss: 0.5798 - train_accuracy: 85.8838%                 - val_loss: 0.1199 - val_accuracy: 88.8889%\n",
            "Epoch 73/100\n",
            "26/26 - train_loss: 0.5212 - train_accuracy: 86.6334%                 - val_loss: 0.1194 - val_accuracy: 88.3838%\n",
            "Epoch 74/100\n",
            "26/26 - train_loss: 0.5606 - train_accuracy: 86.6958%                 - val_loss: 0.1230 - val_accuracy: 88.8889%\n",
            "Epoch 75/100\n",
            "26/26 - train_loss: 0.5346 - train_accuracy: 86.7583%                 - val_loss: 0.1337 - val_accuracy: 88.3838%\n",
            "Epoch 76/100\n",
            "26/26 - train_loss: 0.5125 - train_accuracy: 86.9457%                 - val_loss: 0.1308 - val_accuracy: 88.8889%\n",
            "Epoch 77/100\n",
            "26/26 - train_loss: 0.4937 - train_accuracy: 87.1330%                 - val_loss: 0.1246 - val_accuracy: 89.3939%\n",
            "Epoch 78/100\n",
            "26/26 - train_loss: 0.5187 - train_accuracy: 87.2580%                 - val_loss: 0.1239 - val_accuracy: 89.3939%\n",
            "Epoch 79/100\n",
            "26/26 - train_loss: 0.4913 - train_accuracy: 86.9457%                 - val_loss: 0.1287 - val_accuracy: 88.3838%\n",
            "Epoch 80/100\n",
            "26/26 - train_loss: 0.4760 - train_accuracy: 86.9457%                 - val_loss: 0.1213 - val_accuracy: 89.3939%\n",
            "Epoch 81/100\n",
            "26/26 - train_loss: 0.5024 - train_accuracy: 87.7577%                 - val_loss: 0.1177 - val_accuracy: 90.4040%\n",
            "Epoch 82/100\n",
            "26/26 - train_loss: 0.4781 - train_accuracy: 87.5078%                 - val_loss: 0.1085 - val_accuracy: 90.9091%\n",
            "Epoch 83/100\n",
            "26/26 - train_loss: 0.4601 - train_accuracy: 87.2580%                 - val_loss: 0.1071 - val_accuracy: 91.4141%\n",
            "Epoch 84/100\n",
            "26/26 - train_loss: 0.4547 - train_accuracy: 87.5703%                 - val_loss: 0.1110 - val_accuracy: 90.9091%\n",
            "Epoch 85/100\n",
            "26/26 - train_loss: 0.4470 - train_accuracy: 88.3198%                 - val_loss: 0.1163 - val_accuracy: 90.9091%\n",
            "Epoch 86/100\n",
            "26/26 - train_loss: 0.4587 - train_accuracy: 88.0075%                 - val_loss: 0.1132 - val_accuracy: 89.8990%\n",
            "Epoch 87/100\n",
            "26/26 - train_loss: 0.4441 - train_accuracy: 88.3198%                 - val_loss: 0.1232 - val_accuracy: 89.8990%\n",
            "Epoch 88/100\n",
            "26/26 - train_loss: 0.4256 - train_accuracy: 88.5696%                 - val_loss: 0.1204 - val_accuracy: 91.4141%\n",
            "Epoch 89/100\n",
            "26/26 - train_loss: 0.4427 - train_accuracy: 88.2573%                 - val_loss: 0.1224 - val_accuracy: 90.4040%\n",
            "Epoch 90/100\n",
            "26/26 - train_loss: 0.4252 - train_accuracy: 89.1318%                 - val_loss: 0.1372 - val_accuracy: 88.8889%\n",
            "Epoch 91/100\n",
            "26/26 - train_loss: 0.4192 - train_accuracy: 88.8195%                 - val_loss: 0.1291 - val_accuracy: 90.9091%\n",
            "Epoch 92/100\n",
            "26/26 - train_loss: 0.4244 - train_accuracy: 87.7577%                 - val_loss: 0.1231 - val_accuracy: 90.9091%\n",
            "Epoch 93/100\n",
            "26/26 - train_loss: 0.4013 - train_accuracy: 88.8195%                 - val_loss: 0.1233 - val_accuracy: 91.4141%\n",
            "Epoch 94/100\n",
            "26/26 - train_loss: 0.4063 - train_accuracy: 88.7570%                 - val_loss: 0.1245 - val_accuracy: 91.4141%\n",
            "Epoch 95/100\n",
            "26/26 - train_loss: 0.4133 - train_accuracy: 89.0693%                 - val_loss: 0.1203 - val_accuracy: 90.9091%\n",
            "Epoch 96/100\n",
            "26/26 - train_loss: 0.4558 - train_accuracy: 89.0069%                 - val_loss: 0.1226 - val_accuracy: 90.9091%\n",
            "Epoch 97/100\n",
            "26/26 - train_loss: 0.4195 - train_accuracy: 88.0700%                 - val_loss: 0.1441 - val_accuracy: 90.9091%\n",
            "Epoch 98/100\n",
            "26/26 - train_loss: 0.3931 - train_accuracy: 89.0693%                 - val_loss: 0.1409 - val_accuracy: 91.4141%\n",
            "Epoch 99/100\n",
            "26/26 - train_loss: 0.3884 - train_accuracy: 88.9444%                 - val_loss: 0.1358 - val_accuracy: 91.4141%\n",
            "Epoch 100/100\n",
            "26/26 - train_loss: 0.3873 - train_accuracy: 88.6946%                 - val_loss: 0.1318 - val_accuracy: 91.4141%\n"
          ]
        }
      ]
    },
    {
      "cell_type": "markdown",
      "source": [
        "#### <font color=\"red\">**Question 4.3**</font>\n",
        "**For any models defined in the previous questions (of all parts), you are free to fine-tune hyperparameters, e.g., `optimizer`, `learning_rate`, `state_sizes`, such that you get a best model, i.e., the one with the highest accuracy on the test set. You will need to report (i) what is your best model,  (ii) its accuracy on the test set, and (iii) the values of its hyperparameters. Note that you must report your best model's accuracy with rounding to 4 decimal places, i.e., 0.xxxx. You will also need to upload your best model (or provide us with the link to download your best model). The assessment will be based on your best model's accuracy, with up to 10 marks available, specifically:**\n",
        "* The best accuracy $\\ge$ 0.97: 10 marks\n",
        "* 0.97 $>$ The best accuracy $\\ge$ 0.92: 7 marks\n",
        "* 0.92 $>$ The best accuracy $\\ge$ 0.85: 4 marks\n",
        "* The best accuracy $<$ 0.85: 0 mark\n",
        "\n",
        "**For this question, you can put below the code to train the best model. In this case, you need to show your code and the evidence of running regarding the best model. Moreover, if you save the best model, you need to provide the link to download the best model, the code to load the best model, and then evaluate on the test set.**\n",
        "<div style=\"text-align: right\"><font color=\"red\">[10 marks]</font></div>"
      ],
      "metadata": {
        "id": "xi6PnvdO-Glw"
      }
    },
    {
      "cell_type": "markdown",
      "source": [
        "# Give your answer here.\n",
        "\n",
        "(i) What is your best model?\n",
        "\n",
        "Based on the highest test set accuracy achieved across all executed models in the provided notebooks, the best performance was obtained by multiple models:\n",
        "* TransformerClassifier (Question 4.1)\n",
        "* RNN (GRU/Scratch Mode) (Question 3.2.2)\n",
        "* TextCNN (Question 2)\n",
        "I select the $\\mathbf{TransformerClassifier}$ from the final notebook for the detailed hyperparameter report.\n",
        "\n",
        "\n",
        "(ii) The accuracy of your best model on the test set\n",
        "\n",
        "\n",
        "The test set accuracy for the selected model, rounded to 4 decimal places, is:$$\\mathbf{0.9751}$$This accuracy ($\\ge 0.97$) corresponds to the 10 marks category according to Question 4.3 instructions.\n",
        "\n",
        "\n",
        "(iii) The values of the hyperparameters of your best model\n",
        "\n",
        "\n",
        "The selected best model is the TransformerClassifier trained in Question 4.1. The hyperparameters are:\n",
        "$$\n",
        "\\begin{array}{|l|l|}\n",
        "\\hline\n",
        "\\mathbf{Hyperparameter} & \\mathbf{Value} \\\\\n",
        "\\hline\n",
        "\\text{Model Class} & \\text{TransformerClassifier} \\\\\n",
        "\\hline\n",
        "\\text{Architecture} & \\text{Transformer Encoder with Mean Pooling} \\\\\n",
        "\\hline\n",
        "\\mathbf{embed\\_dim} & 512 \\\\\n",
        "\\hline\n",
        "\\mathbf{num\\_heads} & 8 \\\\\n",
        "\\hline\n",
        "\\mathbf{ff\\_dim} & 2048 \\\\\n",
        "\\hline\n",
        "\\mathbf{num\\_layers} & 6 \\\\\n",
        "\\hline\n",
        "\\mathbf{dropout\\_rate} & 0.1 \\\\\n",
        "\\hline\n",
        "\\text{Optimizer} & \\text{Adam} \\\\\n",
        "\\hline\n",
        "\\mathbf{lr} & 1 \\times 10^{-4} \\\\\n",
        "\\hline\n",
        "\\text{Epochs} & 30 \\\\\n",
        "\\hline\n",
        "\\end{array}\n",
        "$$\n",
        "\n",
        "\n",
        "(iv) The link to download your best model\n",
        "\n",
        "https://drive.google.com/file/d/13zMZTwUeWl_06Qy0_8k31ono8_jMNZj7/view?usp=drive_link"
      ],
      "metadata": {
        "id": "EvM2pq3J-K0C"
      }
    },
    {
      "cell_type": "markdown",
      "source": [
        "---\n",
        "<div style=\"text-align: center\"> <font color=\"green\">GOOD LUCK WITH YOUR ASSIGNMENT 2!</font> </div>\n",
        "<div style=\"text-align: center\"> <font color=\"black\">END OF ASSIGNMENT</font> </div>"
      ],
      "metadata": {
        "id": "evYeSuXm-OkM"
      }
    },
    {
      "cell_type": "code",
      "source": [
        "!jupyter nbconvert --to html \"FIT5215_DeepLearning_Assignment2_Official[Transformers].ipynb\""
      ],
      "metadata": {
        "colab": {
          "base_uri": "https://localhost:8080/"
        },
        "id": "3uS6LZVH_ZZT",
        "outputId": "7a34f491-d9e7-4f11-d2a4-a5cfc66268a3"
      },
      "execution_count": 48,
      "outputs": [
        {
          "output_type": "stream",
          "name": "stdout",
          "text": [
            "[NbConvertApp] WARNING | pattern 'FIT5215_DeepLearning_Assignment2_Official[Transformers].ipynb' matched no files\n",
            "This application is used to convert notebook files (*.ipynb)\n",
            "        to various other formats.\n",
            "\n",
            "        WARNING: THE COMMANDLINE INTERFACE MAY CHANGE IN FUTURE RELEASES.\n",
            "\n",
            "Options\n",
            "=======\n",
            "The options below are convenience aliases to configurable class-options,\n",
            "as listed in the \"Equivalent to\" description-line of the aliases.\n",
            "To see all configurable class-options for some <cmd>, use:\n",
            "    <cmd> --help-all\n",
            "\n",
            "--debug\n",
            "    set log level to logging.DEBUG (maximize logging output)\n",
            "    Equivalent to: [--Application.log_level=10]\n",
            "--show-config\n",
            "    Show the application's configuration (human-readable format)\n",
            "    Equivalent to: [--Application.show_config=True]\n",
            "--show-config-json\n",
            "    Show the application's configuration (json format)\n",
            "    Equivalent to: [--Application.show_config_json=True]\n",
            "--generate-config\n",
            "    generate default config file\n",
            "    Equivalent to: [--JupyterApp.generate_config=True]\n",
            "-y\n",
            "    Answer yes to any questions instead of prompting.\n",
            "    Equivalent to: [--JupyterApp.answer_yes=True]\n",
            "--execute\n",
            "    Execute the notebook prior to export.\n",
            "    Equivalent to: [--ExecutePreprocessor.enabled=True]\n",
            "--allow-errors\n",
            "    Continue notebook execution even if one of the cells throws an error and include the error message in the cell output (the default behaviour is to abort conversion). This flag is only relevant if '--execute' was specified, too.\n",
            "    Equivalent to: [--ExecutePreprocessor.allow_errors=True]\n",
            "--stdin\n",
            "    read a single notebook file from stdin. Write the resulting notebook with default basename 'notebook.*'\n",
            "    Equivalent to: [--NbConvertApp.from_stdin=True]\n",
            "--stdout\n",
            "    Write notebook output to stdout instead of files.\n",
            "    Equivalent to: [--NbConvertApp.writer_class=StdoutWriter]\n",
            "--inplace\n",
            "    Run nbconvert in place, overwriting the existing notebook (only\n",
            "            relevant when converting to notebook format)\n",
            "    Equivalent to: [--NbConvertApp.use_output_suffix=False --NbConvertApp.export_format=notebook --FilesWriter.build_directory=]\n",
            "--clear-output\n",
            "    Clear output of current file and save in place,\n",
            "            overwriting the existing notebook.\n",
            "    Equivalent to: [--NbConvertApp.use_output_suffix=False --NbConvertApp.export_format=notebook --FilesWriter.build_directory= --ClearOutputPreprocessor.enabled=True]\n",
            "--coalesce-streams\n",
            "    Coalesce consecutive stdout and stderr outputs into one stream (within each cell).\n",
            "    Equivalent to: [--NbConvertApp.use_output_suffix=False --NbConvertApp.export_format=notebook --FilesWriter.build_directory= --CoalesceStreamsPreprocessor.enabled=True]\n",
            "--no-prompt\n",
            "    Exclude input and output prompts from converted document.\n",
            "    Equivalent to: [--TemplateExporter.exclude_input_prompt=True --TemplateExporter.exclude_output_prompt=True]\n",
            "--no-input\n",
            "    Exclude input cells and output prompts from converted document.\n",
            "            This mode is ideal for generating code-free reports.\n",
            "    Equivalent to: [--TemplateExporter.exclude_output_prompt=True --TemplateExporter.exclude_input=True --TemplateExporter.exclude_input_prompt=True]\n",
            "--allow-chromium-download\n",
            "    Whether to allow downloading chromium if no suitable version is found on the system.\n",
            "    Equivalent to: [--WebPDFExporter.allow_chromium_download=True]\n",
            "--disable-chromium-sandbox\n",
            "    Disable chromium security sandbox when converting to PDF..\n",
            "    Equivalent to: [--WebPDFExporter.disable_sandbox=True]\n",
            "--show-input\n",
            "    Shows code input. This flag is only useful for dejavu users.\n",
            "    Equivalent to: [--TemplateExporter.exclude_input=False]\n",
            "--embed-images\n",
            "    Embed the images as base64 dataurls in the output. This flag is only useful for the HTML/WebPDF/Slides exports.\n",
            "    Equivalent to: [--HTMLExporter.embed_images=True]\n",
            "--sanitize-html\n",
            "    Whether the HTML in Markdown cells and cell outputs should be sanitized..\n",
            "    Equivalent to: [--HTMLExporter.sanitize_html=True]\n",
            "--log-level=<Enum>\n",
            "    Set the log level by value or name.\n",
            "    Choices: any of [0, 10, 20, 30, 40, 50, 'DEBUG', 'INFO', 'WARN', 'ERROR', 'CRITICAL']\n",
            "    Default: 30\n",
            "    Equivalent to: [--Application.log_level]\n",
            "--config=<Unicode>\n",
            "    Full path of a config file.\n",
            "    Default: ''\n",
            "    Equivalent to: [--JupyterApp.config_file]\n",
            "--to=<Unicode>\n",
            "    The export format to be used, either one of the built-in formats\n",
            "            ['asciidoc', 'custom', 'html', 'latex', 'markdown', 'notebook', 'pdf', 'python', 'qtpdf', 'qtpng', 'rst', 'script', 'slides', 'webpdf']\n",
            "            or a dotted object name that represents the import path for an\n",
            "            ``Exporter`` class\n",
            "    Default: ''\n",
            "    Equivalent to: [--NbConvertApp.export_format]\n",
            "--template=<Unicode>\n",
            "    Name of the template to use\n",
            "    Default: ''\n",
            "    Equivalent to: [--TemplateExporter.template_name]\n",
            "--template-file=<Unicode>\n",
            "    Name of the template file to use\n",
            "    Default: None\n",
            "    Equivalent to: [--TemplateExporter.template_file]\n",
            "--theme=<Unicode>\n",
            "    Template specific theme(e.g. the name of a JupyterLab CSS theme distributed\n",
            "    as prebuilt extension for the lab template)\n",
            "    Default: 'light'\n",
            "    Equivalent to: [--HTMLExporter.theme]\n",
            "--sanitize_html=<Bool>\n",
            "    Whether the HTML in Markdown cells and cell outputs should be sanitized.This\n",
            "    should be set to True by nbviewer or similar tools.\n",
            "    Default: False\n",
            "    Equivalent to: [--HTMLExporter.sanitize_html]\n",
            "--writer=<DottedObjectName>\n",
            "    Writer class used to write the\n",
            "                                        results of the conversion\n",
            "    Default: 'FilesWriter'\n",
            "    Equivalent to: [--NbConvertApp.writer_class]\n",
            "--post=<DottedOrNone>\n",
            "    PostProcessor class used to write the\n",
            "                                        results of the conversion\n",
            "    Default: ''\n",
            "    Equivalent to: [--NbConvertApp.postprocessor_class]\n",
            "--output=<Unicode>\n",
            "    Overwrite base name use for output files.\n",
            "                Supports pattern replacements '{notebook_name}'.\n",
            "    Default: '{notebook_name}'\n",
            "    Equivalent to: [--NbConvertApp.output_base]\n",
            "--output-dir=<Unicode>\n",
            "    Directory to write output(s) to. Defaults\n",
            "                                  to output to the directory of each notebook. To recover\n",
            "                                  previous default behaviour (outputting to the current\n",
            "                                  working directory) use . as the flag value.\n",
            "    Default: ''\n",
            "    Equivalent to: [--FilesWriter.build_directory]\n",
            "--reveal-prefix=<Unicode>\n",
            "    The URL prefix for reveal.js (version 3.x).\n",
            "            This defaults to the reveal CDN, but can be any url pointing to a copy\n",
            "            of reveal.js.\n",
            "            For speaker notes to work, this must be a relative path to a local\n",
            "            copy of reveal.js: e.g., \"reveal.js\".\n",
            "            If a relative path is given, it must be a subdirectory of the\n",
            "            current directory (from which the server is run).\n",
            "            See the usage documentation\n",
            "            (https://nbconvert.readthedocs.io/en/latest/usage.html#reveal-js-html-slideshow)\n",
            "            for more details.\n",
            "    Default: ''\n",
            "    Equivalent to: [--SlidesExporter.reveal_url_prefix]\n",
            "--nbformat=<Enum>\n",
            "    The nbformat version to write.\n",
            "            Use this to downgrade notebooks.\n",
            "    Choices: any of [1, 2, 3, 4]\n",
            "    Default: 4\n",
            "    Equivalent to: [--NotebookExporter.nbformat_version]\n",
            "\n",
            "Examples\n",
            "--------\n",
            "\n",
            "    The simplest way to use nbconvert is\n",
            "\n",
            "            > jupyter nbconvert mynotebook.ipynb --to html\n",
            "\n",
            "            Options include ['asciidoc', 'custom', 'html', 'latex', 'markdown', 'notebook', 'pdf', 'python', 'qtpdf', 'qtpng', 'rst', 'script', 'slides', 'webpdf'].\n",
            "\n",
            "            > jupyter nbconvert --to latex mynotebook.ipynb\n",
            "\n",
            "            Both HTML and LaTeX support multiple output templates. LaTeX includes\n",
            "            'base', 'article' and 'report'.  HTML includes 'basic', 'lab' and\n",
            "            'classic'. You can specify the flavor of the format used.\n",
            "\n",
            "            > jupyter nbconvert --to html --template lab mynotebook.ipynb\n",
            "\n",
            "            You can also pipe the output to stdout, rather than a file\n",
            "\n",
            "            > jupyter nbconvert mynotebook.ipynb --stdout\n",
            "\n",
            "            PDF is generated via latex\n",
            "\n",
            "            > jupyter nbconvert mynotebook.ipynb --to pdf\n",
            "\n",
            "            You can get (and serve) a Reveal.js-powered slideshow\n",
            "\n",
            "            > jupyter nbconvert myslides.ipynb --to slides --post serve\n",
            "\n",
            "            Multiple notebooks can be given at the command line in a couple of\n",
            "            different ways:\n",
            "\n",
            "            > jupyter nbconvert notebook*.ipynb\n",
            "            > jupyter nbconvert notebook1.ipynb notebook2.ipynb\n",
            "\n",
            "            or you can specify the notebooks list in a config file, containing::\n",
            "\n",
            "                c.NbConvertApp.notebooks = [\"my_notebook.ipynb\"]\n",
            "\n",
            "            > jupyter nbconvert --config mycfg.py\n",
            "\n",
            "To see all available configurables, use `--help-all`.\n",
            "\n"
          ]
        }
      ]
    }
  ]
}